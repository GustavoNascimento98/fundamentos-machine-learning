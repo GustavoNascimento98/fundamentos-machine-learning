{
 "cells": [
  {
   "cell_type": "markdown",
   "id": "d6500ebf",
   "metadata": {
    "heading_collapsed": true
   },
   "source": [
    "# 1.0 Treinamento do Joaquim: DS Novato"
   ]
  },
  {
   "cell_type": "code",
   "execution_count": 1,
   "id": "2652e658",
   "metadata": {
    "hidden": true
   },
   "outputs": [],
   "source": [
    "import pandas as pd\n",
    "import numpy as np\n",
    "\n",
    "from sklearn import datasets as ds\n",
    "from sklearn import model_selection as ms"
   ]
  },
  {
   "cell_type": "markdown",
   "id": "49cdca7d",
   "metadata": {
    "heading_collapsed": true,
    "hidden": true
   },
   "source": [
    "## Dados sintéticos"
   ]
  },
  {
   "cell_type": "code",
   "execution_count": 2,
   "id": "44d9f932",
   "metadata": {
    "hidden": true
   },
   "outputs": [],
   "source": [
    "# A função make_classification() é usada para criar um datasets com dados sintéticos uteis para estudarmos problemas \n",
    "# de regressão e nos retorna duas arrays, a primeira representa o conjunto de dados e possui dimensões dadas por \n",
    "# (n_samples, n_features) e a segunda array representa a classe que cada linha do primeiro conjunto representa.\n",
    "\n",
    "X, y = ds.make_classification(\n",
    "    \n",
    "            n_samples=20000,       # Número de amostras\n",
    "            n_features=2,          # Número de colunas do dataset\n",
    "            n_informative=2,       # Número de features informativas (carregam informações uteis)\n",
    "            n_redundant=0,         # Número de features redundantes (features muito correlacionadas)\n",
    "            random_state=0         # Estado aleatório\n",
    ")"
   ]
  },
  {
   "cell_type": "code",
   "execution_count": 3,
   "id": "68e492a8",
   "metadata": {
    "hidden": true
   },
   "outputs": [
    {
     "name": "stdout",
     "output_type": "stream",
     "text": [
      "(20000, 2)\n"
     ]
    },
    {
     "data": {
      "text/plain": [
       "array([[ 2.02287398,  0.28534593],\n",
       "       [ 0.54989455,  0.70102121],\n",
       "       [-0.65937627,  0.11606627],\n",
       "       ...,\n",
       "       [-0.08971485, -0.00977909],\n",
       "       [ 1.71660807,  0.1355986 ],\n",
       "       [ 0.34911178,  2.7185716 ]])"
      ]
     },
     "execution_count": 3,
     "metadata": {},
     "output_type": "execute_result"
    }
   ],
   "source": [
    "# Dimensão do dataset (n_samples, n_features)\n",
    "print(X.shape)\n",
    "\n",
    "# Dataset gerado pela função make_classification()\n",
    "X"
   ]
  },
  {
   "cell_type": "code",
   "execution_count": 4,
   "id": "91160ef2",
   "metadata": {
    "hidden": true
   },
   "outputs": [
    {
     "name": "stdout",
     "output_type": "stream",
     "text": [
      "(20000,)\n"
     ]
    },
    {
     "data": {
      "text/plain": [
       "array([0, 0, 0, ..., 0, 0, 1])"
      ]
     },
     "execution_count": 4,
     "metadata": {},
     "output_type": "execute_result"
    }
   ],
   "source": [
    "print(y.shape)\n",
    "\n",
    "# Array que contém as classes de cada registro da array X\n",
    "y"
   ]
  },
  {
   "cell_type": "markdown",
   "id": "9cd81e63",
   "metadata": {
    "hidden": true
   },
   "source": [
    "Para facilitar a visualização do nosso conjunto de dados, vamos criar um dataframe."
   ]
  },
  {
   "cell_type": "code",
   "execution_count": 5,
   "id": "ebd5d81a",
   "metadata": {
    "hidden": true
   },
   "outputs": [
    {
     "data": {
      "text/plain": [
       "(20000, 2)"
      ]
     },
     "execution_count": 5,
     "metadata": {},
     "output_type": "execute_result"
    }
   ],
   "source": [
    "df = pd.DataFrame(X)\n",
    "df.shape"
   ]
  },
  {
   "cell_type": "code",
   "execution_count": 6,
   "id": "5ea9aafb",
   "metadata": {
    "hidden": true
   },
   "outputs": [
    {
     "data": {
      "text/html": [
       "<div>\n",
       "<style scoped>\n",
       "    .dataframe tbody tr th:only-of-type {\n",
       "        vertical-align: middle;\n",
       "    }\n",
       "\n",
       "    .dataframe tbody tr th {\n",
       "        vertical-align: top;\n",
       "    }\n",
       "\n",
       "    .dataframe thead th {\n",
       "        text-align: right;\n",
       "    }\n",
       "</style>\n",
       "<table border=\"1\" class=\"dataframe\">\n",
       "  <thead>\n",
       "    <tr style=\"text-align: right;\">\n",
       "      <th></th>\n",
       "      <th>0</th>\n",
       "      <th>1</th>\n",
       "    </tr>\n",
       "  </thead>\n",
       "  <tbody>\n",
       "    <tr>\n",
       "      <th>0</th>\n",
       "      <td>2.022874</td>\n",
       "      <td>0.285346</td>\n",
       "    </tr>\n",
       "    <tr>\n",
       "      <th>1</th>\n",
       "      <td>0.549895</td>\n",
       "      <td>0.701021</td>\n",
       "    </tr>\n",
       "    <tr>\n",
       "      <th>2</th>\n",
       "      <td>-0.659376</td>\n",
       "      <td>0.116066</td>\n",
       "    </tr>\n",
       "    <tr>\n",
       "      <th>3</th>\n",
       "      <td>0.967521</td>\n",
       "      <td>-1.060414</td>\n",
       "    </tr>\n",
       "    <tr>\n",
       "      <th>4</th>\n",
       "      <td>-1.796434</td>\n",
       "      <td>-2.093534</td>\n",
       "    </tr>\n",
       "  </tbody>\n",
       "</table>\n",
       "</div>"
      ],
      "text/plain": [
       "          0         1\n",
       "0  2.022874  0.285346\n",
       "1  0.549895  0.701021\n",
       "2 -0.659376  0.116066\n",
       "3  0.967521 -1.060414\n",
       "4 -1.796434 -2.093534"
      ]
     },
     "execution_count": 6,
     "metadata": {},
     "output_type": "execute_result"
    }
   ],
   "source": [
    "df.head()"
   ]
  },
  {
   "cell_type": "code",
   "execution_count": null,
   "id": "3a2aa385",
   "metadata": {
    "hidden": true
   },
   "outputs": [],
   "source": []
  },
  {
   "cell_type": "markdown",
   "id": "0a3aa52b",
   "metadata": {
    "hidden": true
   },
   "source": [
    "Antes de prosseguirmos vamos fazer uso da função `train_test_split()` do módulo `model_selection` da biblioteca `sklearn` para separar os dados.\n",
    "\n",
    "```python\n",
    "from sklearn import model_selection as ms\n",
    "\n",
    "ms.train_test_split(X, y, test_size, random_state)\n",
    "```"
   ]
  },
  {
   "cell_type": "code",
   "execution_count": 7,
   "id": "ddf17fe2",
   "metadata": {
    "hidden": true
   },
   "outputs": [],
   "source": [
    "# Estamos usando a função train_test_split() para separar os dados de produção (teste), nesse caso\n",
    "# o parâmetro `test_size=0.2` indica que estamos selecionando 20% dos registros para o nosso conjunto de produção\n",
    "X, X_prod, y, y_prod = ms.train_test_split(X, y, test_size=0.2, random_state=0)"
   ]
  },
  {
   "cell_type": "code",
   "execution_count": 8,
   "id": "a34561b2",
   "metadata": {
    "hidden": true
   },
   "outputs": [
    {
     "data": {
      "text/plain": [
       "(4000, 2)"
      ]
     },
     "execution_count": 8,
     "metadata": {},
     "output_type": "execute_result"
    }
   ],
   "source": [
    "# No nosso conjunto original 'X' tínhamos 20_000 registros, como selecionamos 20% dos dados para o conjunto\n",
    "# que simula o ambiente de produção `X_prod`, essa array terá 4000 registros\n",
    "X_prod.shape"
   ]
  },
  {
   "cell_type": "markdown",
   "id": "e86f792a",
   "metadata": {
    "heading_collapsed": true,
    "hidden": true
   },
   "source": [
    "## Não há separação dos dados"
   ]
  },
  {
   "cell_type": "code",
   "execution_count": 9,
   "id": "3720ea5a",
   "metadata": {
    "hidden": true
   },
   "outputs": [],
   "source": [
    "from sklearn import tree as tr\n",
    "from sklearn import metrics as mt"
   ]
  },
  {
   "cell_type": "code",
   "execution_count": 10,
   "id": "44dbbaed",
   "metadata": {
    "hidden": true
   },
   "outputs": [],
   "source": [
    "# Definição do modelo\n",
    "model = tr.DecisionTreeClassifier(max_depth=38)  # O parametro max_depth indica a quantidade máxima \n",
    "                                                 # permitida para arvore crescer, esse parâmetro é capaz de\n",
    "                                                 # causar overfitting\n",
    "# Treinamento\n",
    "model.fit(X,y)\n",
    "\n",
    "\n",
    "# Classificação sobre os dados de treinamento\n",
    "y_hat = model.predict(X)\n",
    "\n",
    "# Calcula a acurácia do algoritmo treinado\n",
    "acc = mt.accuracy_score(y, y_hat)"
   ]
  },
  {
   "cell_type": "code",
   "execution_count": 11,
   "id": "adafde67",
   "metadata": {
    "hidden": true
   },
   "outputs": [
    {
     "name": "stdout",
     "output_type": "stream",
     "text": [
      "Accuracy Over Training: 1.0\n"
     ]
    }
   ],
   "source": [
    "print(f'Accuracy Over Training: {acc}')"
   ]
  },
  {
   "cell_type": "markdown",
   "id": "2dcd72d7",
   "metadata": {
    "hidden": true
   },
   "source": [
    "A acurácia obtida pela nossa decision tree sobre o conjunto de treino foi de 100%"
   ]
  },
  {
   "cell_type": "markdown",
   "id": "647a708b",
   "metadata": {
    "heading_collapsed": true,
    "hidden": true
   },
   "source": [
    "## Publicação do modelo em Produção"
   ]
  },
  {
   "cell_type": "code",
   "execution_count": 12,
   "id": "ce783ff2",
   "metadata": {
    "hidden": true
   },
   "outputs": [],
   "source": [
    "# Classifica os dados separados (que simulam um ambiente de produção)\n",
    "y_hat_prod = model.predict(X_prod)\n",
    "\n",
    "# Verifica a acurácia nos dados de produção\n",
    "acc_prod = mt.accuracy_score(y_prod, y_hat_prod)"
   ]
  },
  {
   "cell_type": "code",
   "execution_count": 13,
   "id": "3f6dd2ce",
   "metadata": {
    "hidden": true
   },
   "outputs": [
    {
     "name": "stdout",
     "output_type": "stream",
     "text": [
      "Accuracy Over Production: 0.85075\n"
     ]
    }
   ],
   "source": [
    "print(f'Accuracy Over Production: {acc_prod}')"
   ]
  },
  {
   "cell_type": "markdown",
   "id": "6b61bf90",
   "metadata": {
    "hidden": true
   },
   "source": [
    "Percebemos no ambiente de produção a nossa decision tree possui uma acurácia de 85%, o que representa uma queda de desempenho de 15% em relação ao treinamento. "
   ]
  },
  {
   "cell_type": "code",
   "execution_count": null,
   "id": "fcfdced0",
   "metadata": {
    "hidden": true
   },
   "outputs": [],
   "source": []
  },
  {
   "cell_type": "markdown",
   "id": "d4896e4c",
   "metadata": {
    "heading_collapsed": true,
    "hidden": true
   },
   "source": [
    "## Estratégia Treino-Teste"
   ]
  },
  {
   "cell_type": "code",
   "execution_count": 14,
   "id": "0b132881",
   "metadata": {
    "hidden": true
   },
   "outputs": [],
   "source": [
    "# Separa os dados em Treinamento e Teste\n",
    "X_train, X_test, y_train, y_test = ms.train_test_split(X, y, test_size=0.2, random_state=0)"
   ]
  },
  {
   "cell_type": "code",
   "execution_count": 15,
   "id": "f6656bc3",
   "metadata": {
    "hidden": true
   },
   "outputs": [],
   "source": [
    "# Modelo treinando com os dados de treinamento\n",
    "model = tr.DecisionTreeClassifier(max_depth=38)\n",
    "model.fit(X_train, y_train)\n",
    "\n",
    "# Classificando sobre os dados de teste\n",
    "y_hat_test = model.predict(X_test)\n",
    "acc_test = mt.accuracy_score(y_test, y_hat_test)"
   ]
  },
  {
   "cell_type": "code",
   "execution_count": 16,
   "id": "f5446c41",
   "metadata": {
    "hidden": true
   },
   "outputs": [
    {
     "name": "stdout",
     "output_type": "stream",
     "text": [
      "Accuracy Over Test: 0.851875\n"
     ]
    }
   ],
   "source": [
    "print(f'Accuracy Over Test: {acc_test}')"
   ]
  },
  {
   "cell_type": "code",
   "execution_count": null,
   "id": "841ffc84",
   "metadata": {
    "hidden": true
   },
   "outputs": [],
   "source": []
  },
  {
   "cell_type": "markdown",
   "id": "7a51f9c4",
   "metadata": {
    "heading_collapsed": true,
    "hidden": true
   },
   "source": [
    "## Escolha os parâmetros do algoritmo"
   ]
  },
  {
   "cell_type": "code",
   "execution_count": 17,
   "id": "250bdd09",
   "metadata": {
    "hidden": true
   },
   "outputs": [],
   "source": [
    "values = [i for i in range(1,60)]\n",
    "\n",
    "test_score = list()\n",
    "\n",
    "for i in values:\n",
    "    # Treinando o modelo para profundidade 'max_depth=i'\n",
    "    model = tr.DecisionTreeClassifier(max_depth=i)\n",
    "    model.fit(X_train, y_train)\n",
    "    \n",
    "    # Classificação sobre o conjunto de teste\n",
    "    y_hat_test = model.predict(X_test)\n",
    "    acc_test = mt.accuracy_score(y_test, y_hat_test)\n",
    "    \n",
    "    test_score.append(acc_test)"
   ]
  },
  {
   "cell_type": "code",
   "execution_count": 18,
   "id": "fef2e185",
   "metadata": {
    "hidden": true
   },
   "outputs": [],
   "source": [
    "import matplotlib.pyplot as plt"
   ]
  },
  {
   "cell_type": "code",
   "execution_count": 19,
   "id": "fb720a55",
   "metadata": {
    "hidden": true
   },
   "outputs": [
    {
     "data": {
      "image/png": "[encoded data removed]",
      "text/plain": [
       "<Figure size 640x480 with 1 Axes>"
      ]
     },
     "metadata": {},
     "output_type": "display_data"
    }
   ],
   "source": [
    "plt.plot(values, test_score, '-o', label='Test')\n",
    "\n",
    "plt.title('max_depth x accuracy_score')\n",
    "plt.xlabel('max_depth')\n",
    "plt.ylabel('accuracy_score')\n",
    "\n",
    "plt.show()"
   ]
  },
  {
   "cell_type": "markdown",
   "id": "daa78991",
   "metadata": {
    "hidden": true
   },
   "source": [
    "Pelo gráfico observamos que maior acurácia obtida pela nossa decision tree foi quando o valor do parâmetro `max_depth` era igual a 6."
   ]
  },
  {
   "cell_type": "markdown",
   "id": "4165855b",
   "metadata": {
    "heading_collapsed": true,
    "hidden": true
   },
   "source": [
    "## Publicação do algoritmo em Produção"
   ]
  },
  {
   "cell_type": "markdown",
   "id": "fc418d7c",
   "metadata": {
    "hidden": true
   },
   "source": [
    "O conjuntos de treino e teste já foram utilizados simultaneamente para escolhermos o melhor valor do parâmetro `max_depth`, então quando juntamos os 2 (usando a função `np.concatenate()`) existe um pequeno vazamento, porque na escolha do melhor valor de `max_depth` foi escolhido a partir do treinamento em cima desses conjuntos, portanto o algoritmo foi se optimizando em cima dos mesmos dados, causando o risco de superestimar o acurácia do nosso modelo."
   ]
  },
  {
   "cell_type": "code",
   "execution_count": 20,
   "id": "af346df3",
   "metadata": {
    "hidden": true
   },
   "outputs": [],
   "source": [
    "# Modelo treinado\n",
    "model_last = tr.DecisionTreeClassifier(max_depth=6)\n",
    "model_last.fit( np.concatenate( (X_train, X_test) ),\n",
    "                np.concatenate( (y_train, y_test) ) )\n",
    "\n",
    "# Classificação sobre os dados de produção\n",
    "y_hat_prod = model_last.predict(X_prod)\n",
    "acc_prod = mt.accuracy_score(y_prod, y_hat_prod)\n"
   ]
  },
  {
   "cell_type": "code",
   "execution_count": 21,
   "id": "f7c83bb0",
   "metadata": {
    "hidden": true
   },
   "outputs": [
    {
     "name": "stdout",
     "output_type": "stream",
     "text": [
      "Accuracy Over Production: 0.88175\n"
     ]
    }
   ],
   "source": [
    "print(f'Accuracy Over Production: {acc_prod}')"
   ]
  },
  {
   "cell_type": "code",
   "execution_count": null,
   "id": "d87ab83e",
   "metadata": {
    "hidden": true
   },
   "outputs": [],
   "source": []
  },
  {
   "cell_type": "markdown",
   "id": "33a8f725",
   "metadata": {},
   "source": [
    "# 2.0 Estratégia de Treino-Validação-Test"
   ]
  },
  {
   "cell_type": "code",
   "execution_count": 22,
   "id": "59400ba3",
   "metadata": {},
   "outputs": [],
   "source": [
    "# Vamos a partir dos dados de treino (que já foram separados em treino e teste) vamos fazer um outra separação,\n",
    "# dessa vez criando um novo conjunto de treino (um pouco menor que o anterior) e um conjunto de validação.\n",
    "\n",
    "# Separação entre Treino e Validação\n",
    "X_train, X_val, y_train, y_val = ms.train_test_split(X_train, y_train, test_size=0.2)"
   ]
  },
  {
   "cell_type": "markdown",
   "id": "ec14c2dd",
   "metadata": {},
   "source": [
    "Vamos repetir o processo feito anteriormente para descobrir qual é o melhor valor do parâmetro `max_depth`. Dessa vez nós iremos verificar a acurácia para cada valor de `max_depth` usando o conjunto de validação `X_val`."
   ]
  },
  {
   "cell_type": "code",
   "execution_count": 23,
   "id": "dfeee10f",
   "metadata": {},
   "outputs": [],
   "source": [
    "values = [i for i in range(1,60)]\n",
    "\n",
    "val_score = list()\n",
    "\n",
    "for i in values:\n",
    "    # Treinando o modelo para profundidade 'max_depth=i'\n",
    "    model = tr.DecisionTreeClassifier(max_depth=i)\n",
    "    model.fit(X_train, y_train)\n",
    "    \n",
    "    # Classificação sobre o conjunto de validação\n",
    "    y_hat_val = model.predict(X_val)\n",
    "    acc_val = mt.accuracy_score(y_val, y_hat_val)\n",
    "    \n",
    "    val_score.append(acc_val)"
   ]
  },
  {
   "cell_type": "code",
   "execution_count": 24,
   "id": "f39e6371",
   "metadata": {},
   "outputs": [
    {
     "data": {
      "image/png": "[encoded data removed]",
      "text/plain": [
       "<Figure size 640x480 with 1 Axes>"
      ]
     },
     "metadata": {},
     "output_type": "display_data"
    }
   ],
   "source": [
    "plt.plot(values, val_score, '-o', label='Validação')\n",
    "\n",
    "plt.title('max_depth x accuracy_score')\n",
    "plt.xlabel('max_depth')\n",
    "plt.ylabel('accuracy_score')\n",
    "plt.legend()\n",
    "\n",
    "plt.show()"
   ]
  },
  {
   "cell_type": "markdown",
   "id": "db4e66bd",
   "metadata": {},
   "source": [
    "Dessa vez obtemos que o `max_depth=7` produz a melhor accuracy."
   ]
  },
  {
   "cell_type": "code",
   "execution_count": 27,
   "id": "746363aa",
   "metadata": {},
   "outputs": [
    {
     "name": "stdout",
     "output_type": "stream",
     "text": [
      "Acuraccy Over Validation: 0.882421875\n"
     ]
    }
   ],
   "source": [
    "# Retreinando o algoritmo com 'max_depth' optimizado\n",
    "model = tr.DecisionTreeClassifier(max_depth=7)\n",
    "model.fit(X_train, y_train)\n",
    "\n",
    "# Previsão sobre os dados de validação\n",
    "y_hat_val = model.predict(X_val)\n",
    "acc_val = mt.accuracy_score(y_val, y_hat_val)\n",
    "\n",
    "\n",
    "print(f'Acuraccy Over Validation: {acc_val}')"
   ]
  },
  {
   "cell_type": "markdown",
   "id": "eb9c6c22",
   "metadata": {},
   "source": [
    "Durante o nosso treinamento o modelo já viu os conjunto de dados de Treinamento e Validação. Vamos agora testar a performance dele em um conjunto de dados que ele ainda não viu. Mas antes de testar a sua performance sobre o conjunto de Teste, vamos retreinar o nosso modelo mais uma vez usando todos os dados de Treinamento e Validação."
   ]
  },
  {
   "cell_type": "code",
   "execution_count": 28,
   "id": "68a58714",
   "metadata": {},
   "outputs": [
    {
     "name": "stdout",
     "output_type": "stream",
     "text": [
      "Accuracy Over Test: 0.8859375\n"
     ]
    }
   ],
   "source": [
    "# Modelo treinado sobre training + validation\n",
    "model_last = tr.DecisionTreeClassifier(max_depth=7)\n",
    "model_last.fit( np.concatenate( (X_train, X_val) ),\n",
    "                np.concatenate( (y_train, y_val) ))\n",
    "\n",
    "# Testando a acurácia sobre o conjunto de teste\n",
    "y_hat_test = model_last.predict(X_test)\n",
    "acc_test = mt.accuracy_score(y_test, y_hat_test)\n",
    "\n",
    "\n",
    "print(f'Accuracy Over Test: {acc_test}')"
   ]
  },
  {
   "cell_type": "code",
   "execution_count": null,
   "id": "51e65b29",
   "metadata": {},
   "outputs": [],
   "source": []
  },
  {
   "cell_type": "code",
   "execution_count": 29,
   "id": "df0101fa",
   "metadata": {},
   "outputs": [
    {
     "name": "stdout",
     "output_type": "stream",
     "text": [
      "Accuracy Over Prod: 0.87725\n"
     ]
    }
   ],
   "source": [
    "# Testando o modelo para os dados de Produção\n",
    "y_hat_prod = model_last.predict(X_prod)\n",
    "acc_prod = mt.accuracy_score(y_prod, y_hat_prod)\n",
    "\n",
    "\n",
    "print(f'Accuracy Over Prod: {acc_prod}')"
   ]
  },
  {
   "cell_type": "code",
   "execution_count": null,
   "id": "ce2115ec",
   "metadata": {},
   "outputs": [],
   "source": []
  }
 ],
 "metadata": {
  "kernelspec": {
   "display_name": "Python 3 (ipykernel)",
   "language": "python",
   "name": "python3"
  },
  "language_info": {
   "codemirror_mode": {
    "name": "ipython",
    "version": 3
   },
   "file_extension": ".py",
   "mimetype": "text/x-python",
   "name": "python",
   "nbconvert_exporter": "python",
   "pygments_lexer": "ipython3",
   "version": "3.10.6"
  },
  "varInspector": {
   "cols": {
    "lenName": 16,
    "lenType": 16,
    "lenVar": 40
   },
   "kernels_config": {
    "python": {
     "delete_cmd_postfix": "",
     "delete_cmd_prefix": "del ",
     "library": "var_list.py",
     "varRefreshCmd": "print(var_dic_list())"
    },
    "r": {
     "delete_cmd_postfix": ") ",
     "delete_cmd_prefix": "rm(",
     "library": "var_list.r",
     "varRefreshCmd": "cat(var_dic_list()) "
    }
   },
   "types_to_exclude": [
    "module",
    "function",
    "builtin_function_or_method",
    "instance",
    "_Feature"
   ],
   "window_display": false
  }
 },
 "nbformat": 4,
 "nbformat_minor": 5
}
