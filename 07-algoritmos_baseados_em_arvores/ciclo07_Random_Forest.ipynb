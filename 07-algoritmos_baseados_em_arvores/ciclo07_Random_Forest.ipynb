{
 "cells": [
  {
   "cell_type": "markdown",
   "id": "b3209f7a",
   "metadata": {},
   "source": [
    "# 0.0 Imports"
   ]
  },
  {
   "cell_type": "code",
   "execution_count": 84,
   "id": "b0e5dc5f",
   "metadata": {},
   "outputs": [],
   "source": [
    "from sklearn import datasets as ds\n",
    "from sklearn import model_selection as ms\n",
    "from sklearn import tree as tr\n",
    "from sklearn import ensemble as en\n",
    "from sklearn import metrics as mt\n",
    "\n",
    "from matplotlib import pyplot as plt\n",
    "\n",
    "import numpy as np\n",
    "import pandas as pd"
   ]
  },
  {
   "cell_type": "markdown",
   "id": "cee7263c",
   "metadata": {
    "heading_collapsed": true
   },
   "source": [
    "# 1.0 Load Dataset"
   ]
  },
  {
   "cell_type": "code",
   "execution_count": 2,
   "id": "ef6adabe",
   "metadata": {
    "hidden": true
   },
   "outputs": [],
   "source": [
    "X, y = ds.make_classification(n_samples=1000, n_classes=2, random_state=0)"
   ]
  },
  {
   "cell_type": "code",
   "execution_count": 4,
   "id": "9820cdf6",
   "metadata": {
    "hidden": true
   },
   "outputs": [],
   "source": [
    "X_train, X_test, y_train, y_test = ms.train_test_split(X, y, test_size=0.2, random_state=0)"
   ]
  },
  {
   "cell_type": "markdown",
   "id": "38e18350",
   "metadata": {
    "hidden": true
   },
   "source": [
    "Por padrão o dataset criando usando a função `make_classification()` possui 20 features."
   ]
  },
  {
   "cell_type": "code",
   "execution_count": 5,
   "id": "17c0eb05",
   "metadata": {
    "hidden": true
   },
   "outputs": [
    {
     "data": {
      "text/plain": [
       "(800, 20)"
      ]
     },
     "execution_count": 5,
     "metadata": {},
     "output_type": "execute_result"
    }
   ],
   "source": [
    "X_train.shape"
   ]
  },
  {
   "cell_type": "code",
   "execution_count": 6,
   "id": "718c8948",
   "metadata": {
    "hidden": true
   },
   "outputs": [
    {
     "data": {
      "text/plain": [
       "(200, 20)"
      ]
     },
     "execution_count": 6,
     "metadata": {},
     "output_type": "execute_result"
    }
   ],
   "source": [
    "X_test.shape"
   ]
  },
  {
   "cell_type": "code",
   "execution_count": 11,
   "id": "24e9b0fa",
   "metadata": {
    "hidden": true
   },
   "outputs": [
    {
     "data": {
      "text/plain": [
       "array([0, 0, 1, 0, 1, 1, 1, 0, 1, 0, 1, 0, 1, 1, 0, 0, 1, 1, 1, 0, 0, 1,\n",
       "       1, 0, 1, 1, 1, 1, 0, 1, 1, 0, 1, 1, 0, 1, 1, 0, 0, 1, 0, 0, 1, 0,\n",
       "       0, 0, 1, 1, 0, 0, 0, 0, 1, 1, 0, 1, 0, 0, 0, 0, 1, 1, 1, 0, 1, 1,\n",
       "       1, 0, 0, 0, 0, 0, 1, 0, 0, 1, 1, 1, 1, 1, 0, 1, 1, 0, 0, 0, 0, 0,\n",
       "       0, 1, 1, 0, 0, 1, 1, 0, 0, 0, 1, 1, 0, 0, 1, 0, 1, 1, 0, 1, 1, 1,\n",
       "       0, 1, 0, 1, 1, 0, 1, 0, 1, 1, 1, 1, 1, 1, 0, 1, 0, 1, 0, 1, 1, 0,\n",
       "       1, 1, 1, 1, 0, 1, 0, 0, 0, 1, 1, 1, 1, 0, 0, 1, 1, 0, 0, 1, 0, 1,\n",
       "       1, 1, 1, 1, 1, 0, 0, 1, 1, 0, 0, 0, 0, 0, 0, 0, 1, 0, 1, 1, 0, 1,\n",
       "       0, 0, 0, 0, 1, 1, 1, 1, 1, 1, 1, 1, 0, 0, 0, 0, 1, 1, 0, 1, 1, 1,\n",
       "       0, 0])"
      ]
     },
     "execution_count": 11,
     "metadata": {},
     "output_type": "execute_result"
    }
   ],
   "source": [
    "y_test"
   ]
  },
  {
   "cell_type": "markdown",
   "id": "daef885b",
   "metadata": {},
   "source": [
    "# 2.0 Model training"
   ]
  },
  {
   "cell_type": "code",
   "execution_count": 12,
   "id": "ddc685ba",
   "metadata": {},
   "outputs": [],
   "source": [
    "# definition\n",
    "model = en.RandomForestClassifier(\n",
    "    \n",
    "    n_estimators=100,       # número de árvores que compõem a random forest\n",
    "    max_depth=2,            # profundidade máxima de cada árvore\n",
    "    random_state=0\n",
    ")\n",
    "\n",
    "# fit (training)\n",
    "model.fit(X_train, y_train)\n",
    "\n",
    "# performance\n",
    "yhat_test = model.predict_proba(X_test)  # retorna a probabilidade de cada registro pertencer a classe associada"
   ]
  },
  {
   "cell_type": "code",
   "execution_count": 14,
   "id": "48778b2d",
   "metadata": {},
   "outputs": [
    {
     "data": {
      "text/plain": [
       "array([[0.7810462 , 0.2189538 ],\n",
       "       [0.76514093, 0.23485907],\n",
       "       [0.20463075, 0.79536925],\n",
       "       [0.8411655 , 0.1588345 ],\n",
       "       [0.24567576, 0.75432424],\n",
       "       [0.34811618, 0.65188382],\n",
       "       [0.22509947, 0.77490053],\n",
       "       [0.78839832, 0.21160168],\n",
       "       [0.21455111, 0.78544889],\n",
       "       [0.84455048, 0.15544952]])"
      ]
     },
     "execution_count": 14,
     "metadata": {},
     "output_type": "execute_result"
    }
   ],
   "source": [
    "yhat_test[:10]"
   ]
  },
  {
   "cell_type": "markdown",
   "id": "29af7d4c",
   "metadata": {},
   "source": [
    "Para plotarmos a nossa curva ROC vamos selecionar as probabilidade de cada registro do conjunto de teste pertencer a classe 1. Ao selecionarmos essa classe, estamos identificado ela como a classe positiva."
   ]
  },
  {
   "cell_type": "code",
   "execution_count": 15,
   "id": "566c545c",
   "metadata": {},
   "outputs": [],
   "source": [
    "yhat_test = yhat_test[:,1]  # Seleciona a probabilidade de cada registro pertencer a classe 1"
   ]
  },
  {
   "cell_type": "code",
   "execution_count": 16,
   "id": "ec0aadee",
   "metadata": {},
   "outputs": [
    {
     "data": {
      "text/plain": [
       "array([0.2189538 , 0.23485907, 0.79536925, 0.1588345 , 0.75432424,\n",
       "       0.65188382, 0.77490053, 0.21160168, 0.78544889, 0.15544952])"
      ]
     },
     "execution_count": 16,
     "metadata": {},
     "output_type": "execute_result"
    }
   ],
   "source": [
    "yhat_test[:10]"
   ]
  },
  {
   "cell_type": "markdown",
   "id": "43fe92fc",
   "metadata": {},
   "source": [
    "# 3.0 ROC curve"
   ]
  },
  {
   "cell_type": "code",
   "execution_count": 18,
   "id": "81a22d28",
   "metadata": {},
   "outputs": [],
   "source": [
    "fpr, tpr, th = mt.roc_curve(y_test, yhat_test)"
   ]
  },
  {
   "cell_type": "markdown",
   "id": "c897408d",
   "metadata": {},
   "source": [
    "False Positive Rate = $\\frac{\\#FP}{\\#FP + \\#TN}$"
   ]
  },
  {
   "cell_type": "code",
   "execution_count": 19,
   "id": "2c45915f",
   "metadata": {},
   "outputs": [
    {
     "data": {
      "text/plain": [
       "array([0.        , 0.        , 0.        , 0.01075269, 0.01075269,\n",
       "       0.02150538, 0.02150538, 0.03225806, 0.03225806, 0.04301075,\n",
       "       0.04301075, 0.11827957, 0.11827957, 0.17204301, 0.17204301,\n",
       "       0.66666667, 0.66666667, 1.        ])"
      ]
     },
     "execution_count": 19,
     "metadata": {},
     "output_type": "execute_result"
    }
   ],
   "source": [
    "# false positive rate - representa a taxa de erro da classe negativa\n",
    "fpr"
   ]
  },
  {
   "cell_type": "markdown",
   "id": "5f7b0bed",
   "metadata": {},
   "source": [
    "True positive rate = $\\frac{\\#TP}{\\#TP + \\#FN}$"
   ]
  },
  {
   "cell_type": "code",
   "execution_count": 20,
   "id": "e0579ae1",
   "metadata": {},
   "outputs": [
    {
     "data": {
      "text/plain": [
       "array([0.        , 0.00934579, 0.05607477, 0.05607477, 0.41121495,\n",
       "       0.41121495, 0.82242991, 0.82242991, 0.8411215 , 0.8411215 ,\n",
       "       0.97196262, 0.97196262, 0.98130841, 0.98130841, 0.99065421,\n",
       "       0.99065421, 1.        , 1.        ])"
      ]
     },
     "execution_count": 20,
     "metadata": {},
     "output_type": "execute_result"
    }
   ],
   "source": [
    "# true positive rate - representa a taxa de acerto da classe positiva\n",
    "tpr"
   ]
  },
  {
   "cell_type": "code",
   "execution_count": 21,
   "id": "c0d9d483",
   "metadata": {},
   "outputs": [
    {
     "data": {
      "text/plain": [
       "array([1.80592261, 0.80592261, 0.79753988, 0.79649174, 0.77860363,\n",
       "       0.77755838, 0.70372075, 0.70035804, 0.69547763, 0.69254117,\n",
       "       0.57382805, 0.32097773, 0.31947889, 0.26915622, 0.2617487 ,\n",
       "       0.20076823, 0.19715288, 0.14637605])"
      ]
     },
     "execution_count": 21,
     "metadata": {},
     "output_type": "execute_result"
    }
   ],
   "source": [
    "# thresholds - probabilidade mínima que um registro precisa alcançar para ser classificado como classe positiva\n",
    "th"
   ]
  },
  {
   "cell_type": "code",
   "execution_count": 30,
   "id": "fbeb6ec9",
   "metadata": {},
   "outputs": [
    {
     "data": {
      "image/png": "[encoded data removed]",
      "text/plain": [
       "<Figure size 640x480 with 1 Axes>"
      ]
     },
     "metadata": {},
     "output_type": "display_data"
    }
   ],
   "source": [
    "plt.plot(fpr, tpr, color='b', marker='o')\n",
    "\n",
    "plt.scatter(x=0, y=1, color='r')             # valores de fpr e tpr que um classificador perfeito teria\n",
    "plt.text(x=0.02, y=1, s='(0,1)', color='r')\n",
    "\n",
    "plt.title('ROC curve')\n",
    "plt.xlabel('FPR - False Positive Rate')\n",
    "plt.ylabel('TPR - True Positive Rate')\n",
    "\n",
    "plt.show()"
   ]
  },
  {
   "cell_type": "markdown",
   "id": "9404aa46",
   "metadata": {},
   "source": [
    "Vemos que para esse conjunto de dados, a random forest é considerado um bom classificador, pois obtemos uma curva em formato de \"L\" invertido que se aproxima bastante do ponto ideal."
   ]
  },
  {
   "cell_type": "markdown",
   "id": "07e795b9",
   "metadata": {},
   "source": [
    "# 4.0 Repetindo o Treinamento para um novo conjunto"
   ]
  },
  {
   "cell_type": "markdown",
   "id": "1633e918",
   "metadata": {},
   "source": [
    "Vamos ver agora como se comporta a random forest e a ROC curve quando diminuímos o número de features do dataset de 20 para 8, das quais 3 são redundantes."
   ]
  },
  {
   "cell_type": "code",
   "execution_count": 70,
   "id": "200081fd",
   "metadata": {},
   "outputs": [],
   "source": [
    "X, y = ds.make_classification(\n",
    "    \n",
    "    n_samples=1000,\n",
    "    n_classes=2,\n",
    "    n_features=8,\n",
    "    n_redundant=3,\n",
    "    random_state=0\n",
    ")"
   ]
  },
  {
   "cell_type": "markdown",
   "id": "c858c51e",
   "metadata": {},
   "source": [
    "Vamos retreinar o modelo de Random Forest utilizando apenas 3 árvores (`n_estimators=3`)."
   ]
  },
  {
   "cell_type": "code",
   "execution_count": 71,
   "id": "76e610f8",
   "metadata": {},
   "outputs": [
    {
     "data": {
      "image/png": "[encoded data removed]",
      "text/plain": [
       "<Figure size 640x480 with 1 Axes>"
      ]
     },
     "metadata": {},
     "output_type": "display_data"
    }
   ],
   "source": [
    "X_train, X_test, y_train, y_test = ms.train_test_split(X, y, test_size=0.2, random_state=0)\n",
    "\n",
    "# definition\n",
    "model = en.RandomForestClassifier(\n",
    "    n_estimators=3,\n",
    "    max_depth=3,\n",
    "    random_state=0\n",
    ")\n",
    "\n",
    "# fit\n",
    "model.fit(X_train, y_train)\n",
    "\n",
    "\n",
    "# peformance\n",
    "yhat_test = model.predict_proba(X_test)\n",
    "yhat_test = yhat_test[:, 1]\n",
    "\n",
    "fpr, tpr, th = mt.roc_curve(y_test, yhat_test)\n",
    "\n",
    "# roc curve plot\n",
    "plt.plot(fpr, tpr, color='b')\n",
    "\n",
    "plt.title('ROC curve')\n",
    "plt.xlabel('FPR - False Positive Rate')\n",
    "plt.ylabel('TPR - True Positive Rate')\n",
    "\n",
    "plt.show()"
   ]
  },
  {
   "cell_type": "markdown",
   "id": "31d4ad2b",
   "metadata": {},
   "source": [
    "Para determinarmos o melhor valor de threshold do classificador (aquele que gera o par (fpr, tpr) mais próximo de $(0,1)$ ) usamos a fórmula da distância entre 2 pontos.\n",
    "\n",
    "$d_{(0,1)\\;\\rightarrow\\;(fpr, \\;tpr)} = \\sqrt{(0 - fpr)^{2} + (1 - tpr)^{2}}$\n",
    "\n",
    "O melhor valor de threshold é aquele que gera o par (fpr, tpr) que resulta no menor valor de $d_{(0,1)\\;\\rightarrow\\;(fpr, \\;tpr)}$."
   ]
  },
  {
   "cell_type": "code",
   "execution_count": 72,
   "id": "f6a68a32",
   "metadata": {},
   "outputs": [
    {
     "data": {
      "text/plain": [
       "array([1.        , 0.98058252, 0.97087379, 0.87378641, 0.44672091,\n",
       "       0.417603  , 0.39819173, 0.29144453, 0.24619656, 0.15135689,\n",
       "       0.09662053, 0.07949352, 0.09189583, 0.08496746, 0.09274225,\n",
       "       0.08697281, 0.13289464, 0.1620795 , 0.18185643, 0.20180191,\n",
       "       0.21182299, 0.30038449, 0.32091212, 0.62894092, 0.67017342,\n",
       "       0.83505155, 0.87628866, 0.96907216, 1.        ])"
      ]
     },
     "execution_count": 72,
     "metadata": {},
     "output_type": "execute_result"
    }
   ],
   "source": [
    "distances = np.sqrt((0 - fpr)**2 + (1 - tpr)**2)\n",
    "distances"
   ]
  },
  {
   "cell_type": "code",
   "execution_count": 73,
   "id": "61c9de38",
   "metadata": {},
   "outputs": [
    {
     "data": {
      "text/plain": [
       "0.07949351845584583"
      ]
     },
     "execution_count": 73,
     "metadata": {},
     "output_type": "execute_result"
    }
   ],
   "source": [
    "# menor distância entre (0,1) e (fpr, tpr)\n",
    "distances.min()"
   ]
  },
  {
   "cell_type": "code",
   "execution_count": 74,
   "id": "7fc05c63",
   "metadata": {},
   "outputs": [
    {
     "name": "stdout",
     "output_type": "stream",
     "text": [
      "O threshold que resulta na melhor performance é: tr = 0.6196308077887026\n"
     ]
    }
   ],
   "source": [
    "index_min = np.argmin(distances)  # encontra o indice do menor valor em uma array\n",
    "\n",
    "best_threshold = th[index_min]    # o melhor threshold é aquele na mesma posição que minimiza a distância\n",
    "\n",
    "print(f'O threshold que resulta na melhor performance é: tr = {best_threshold}')"
   ]
  },
  {
   "cell_type": "markdown",
   "id": "e15c2dad",
   "metadata": {},
   "source": [
    "Vamos agora avaliar a acurácia que o modelo obtém usando o melhor valor de threshold."
   ]
  },
  {
   "cell_type": "code",
   "execution_count": 75,
   "id": "8d1a2ded",
   "metadata": {},
   "outputs": [
    {
     "data": {
      "text/plain": [
       "array([False,  True,  True, False,  True, False, False, False, False,\n",
       "        True, False,  True, False, False, False, False,  True, False,\n",
       "        True,  True,  True,  True, False, False,  True, False, False,\n",
       "       False, False, False,  True, False, False,  True, False,  True,\n",
       "        True, False,  True, False,  True, False, False,  True,  True,\n",
       "        True, False, False,  True, False, False, False,  True,  True,\n",
       "       False,  True,  True,  True, False, False, False, False,  True,\n",
       "        True,  True,  True,  True,  True, False, False,  True, False,\n",
       "       False, False,  True, False, False,  True,  True,  True, False,\n",
       "        True, False, False, False,  True,  True,  True, False,  True,\n",
       "        True,  True,  True,  True, False, False,  True, False, False,\n",
       "        True, False,  True,  True, False, False,  True,  True,  True,\n",
       "       False, False,  True,  True,  True, False,  True,  True, False,\n",
       "        True,  True,  True, False,  True,  True, False, False, False,\n",
       "       False,  True, False,  True,  True, False,  True, False, False,\n",
       "       False,  True, False, False,  True, False,  True, False, False,\n",
       "        True,  True,  True, False, False,  True, False,  True, False,\n",
       "       False, False,  True, False, False,  True, False,  True,  True,\n",
       "        True, False, False,  True, False, False,  True, False,  True,\n",
       "        True,  True,  True,  True,  True, False, False,  True, False,\n",
       "       False,  True, False,  True, False, False,  True, False, False,\n",
       "        True,  True,  True,  True, False,  True,  True, False,  True,\n",
       "        True, False])"
      ]
     },
     "execution_count": 75,
     "metadata": {},
     "output_type": "execute_result"
    }
   ],
   "source": [
    "# ao utilizarmos um operador relacional em uma array, obtemos uma nova array de valores booleanos\n",
    "yhat_test >= best_threshold"
   ]
  },
  {
   "cell_type": "code",
   "execution_count": 76,
   "id": "feea37bc",
   "metadata": {},
   "outputs": [
    {
     "name": "stdout",
     "output_type": "stream",
     "text": [
      "Best Threshold: 0.6196308077887026\n",
      "Accuracy: 0.945\n"
     ]
    }
   ],
   "source": [
    "# convert a array de valores booleanos em inteiros seguinte: (True -> 1) e (False -> 0)\n",
    "# portanto os valores que não são maiores que o best_threshold (False) são designado à classe 0\n",
    "yhat_test_best = (yhat_test >= best_threshold).astype(int)\n",
    "\n",
    "# avalia a acurácia nos valores preditos pelo modelo usando o melhor threshold\n",
    "acc = mt.accuracy_score(y_test, yhat_test_best)\n",
    "\n",
    "print(f'Best Threshold: {best_threshold}')\n",
    "print(f'Accuracy: {acc}')"
   ]
  },
  {
   "cell_type": "code",
   "execution_count": null,
   "id": "710d1d5b",
   "metadata": {},
   "outputs": [],
   "source": []
  },
  {
   "cell_type": "markdown",
   "id": "e00238b6",
   "metadata": {},
   "source": [
    "Depois de treinada a Random Forest possuí um atributo chamado `feature_importances_` que pondera qual foi a importância ou o peso de cada feature durante o treinamento."
   ]
  },
  {
   "cell_type": "code",
   "execution_count": 77,
   "id": "e0cebfc6",
   "metadata": {},
   "outputs": [
    {
     "data": {
      "text/plain": [
       "array([0.06616119, 0.72219705, 0.        , 0.0209795 , 0.00540036,\n",
       "       0.04195749, 0.00364714, 0.13965727])"
      ]
     },
     "execution_count": 77,
     "metadata": {},
     "output_type": "execute_result"
    }
   ],
   "source": [
    "model.feature_importances_"
   ]
  },
  {
   "cell_type": "code",
   "execution_count": 93,
   "id": "40bc9e3f",
   "metadata": {},
   "outputs": [
    {
     "data": {
      "image/png": "[encoded data removed]",
      "text/plain": [
       "<Figure size 640x480 with 1 Axes>"
      ]
     },
     "metadata": {},
     "output_type": "display_data"
    }
   ],
   "source": [
    "feature_names = [ f'feature {i}' for i in range(X.shape[1]) ]\n",
    "importances = model.feature_importances_\n",
    "\n",
    "forest_importances = pd.Series(importances, index=feature_names)\n",
    "\n",
    "fig, ax = plt.subplots()\n",
    "\n",
    "forest_importances.plot.bar(ax=ax)\n",
    "\n",
    "ax.set_title('Feature importances using MDI')\n",
    "ax.set_ylabel('Mean Deacrese in Impurity')\n",
    "\n",
    "plt.show()"
   ]
  },
  {
   "cell_type": "markdown",
   "id": "3d0b7f22",
   "metadata": {},
   "source": [
    "A importância de uma feature é determinada através do Mean Impurity Decrease.\n",
    "\n",
    "Nesse nosso exemplo estamos utilizando uma Random Forest com 3 árvores (`n_estimators=3`) sendo que cada árvore possui uma profundidade máxima de 3 (`max_depth`). Como temos 8 features ao todo no nosso dataset original, o algoritmo de random forest selecionará 3 features ($N_{Search\\;Space} = \\sqrt{N_{Features}} \\approx 3$) para o Search Space após o bootstrap de cada árvore.\n",
    "\n",
    "Dessa forma, uma possível combinação da Random Forest seria:\n",
    "\n",
    "\n",
    "\n",
    "**DT01**  -> Decrease Impurity\n",
    "* Feature 0 = 0.18\n",
    "* Feature 1 = 0.61\n",
    "* Feature 7 = 0.35\n",
    "\n",
    "\n",
    "**DT02**\n",
    "* Feature 1 = 0.80\n",
    "* Feature 2 = 0.01\n",
    "* Feature 7 = 0.11\n",
    "\n",
    "\n",
    "**DT03**\n",
    "* Feature 0 = 0.08\n",
    "* Feature 1 = 0.75\n",
    "* Feature 2 = 0.02\n",
    "\n",
    "\n",
    "Nesse caso a Feature 1 foi utilizada nas 3 árvores de decisão que formam a Random Forest e o decréscimo médio da impureza que essa feature causou foi:\n",
    "\n",
    "$MDI_{Feature\\_1} = \\frac{0.61 + 0.80 + 0.75}{3} = 0.72$\n",
    "\n",
    "\n",
    "O valor obtido pelo atributo `feature_importance_` é a média da queda da impureza das features obtida pelas árvores que compõem a Random Forest."
   ]
  },
  {
   "cell_type": "markdown",
   "id": "470405c4",
   "metadata": {},
   "source": [
    "**A Random Forest consegue determinar quais são as variáveis mais importantes em um determinado fenômeno.**"
   ]
  },
  {
   "cell_type": "code",
   "execution_count": null,
   "id": "29ebf380",
   "metadata": {},
   "outputs": [],
   "source": []
  }
 ],
 "metadata": {
  "kernelspec": {
   "display_name": "Python 3 (ipykernel)",
   "language": "python",
   "name": "python3"
  },
  "language_info": {
   "codemirror_mode": {
    "name": "ipython",
    "version": 3
   },
   "file_extension": ".py",
   "mimetype": "text/x-python",
   "name": "python",
   "nbconvert_exporter": "python",
   "pygments_lexer": "ipython3",
   "version": "3.10.6"
  }
 },
 "nbformat": 4,
 "nbformat_minor": 5
}
