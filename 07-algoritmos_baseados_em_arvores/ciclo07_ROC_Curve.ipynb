{
 "cells": [
  {
   "cell_type": "markdown",
   "id": "1757fabb",
   "metadata": {},
   "source": [
    "# 0.0 Imports"
   ]
  },
  {
   "cell_type": "code",
   "execution_count": 1,
   "id": "7c7bdf48",
   "metadata": {},
   "outputs": [],
   "source": [
    "from sklearn import datasets as ds\n",
    "from sklearn import model_selection as ms\n",
    "from sklearn import linear_model as lm\n",
    "from sklearn import metrics as mt\n",
    "\n",
    "from matplotlib import pyplot as plt\n",
    "import numpy as np"
   ]
  },
  {
   "cell_type": "markdown",
   "id": "c08a73b4",
   "metadata": {
    "heading_collapsed": true
   },
   "source": [
    "# 1.0 Load Dataset"
   ]
  },
  {
   "cell_type": "code",
   "execution_count": 2,
   "id": "77543ddd",
   "metadata": {
    "hidden": true
   },
   "outputs": [],
   "source": [
    "# Generate 2 classes dataset\n",
    "X, y = ds.make_classification(n_samples=1000, n_classes=2, random_state=1)"
   ]
  },
  {
   "cell_type": "code",
   "execution_count": 3,
   "id": "7c57ba5c",
   "metadata": {
    "hidden": true
   },
   "outputs": [
    {
     "data": {
      "text/plain": [
       "(1000, 20)"
      ]
     },
     "execution_count": 3,
     "metadata": {},
     "output_type": "execute_result"
    }
   ],
   "source": [
    "X.shape"
   ]
  },
  {
   "cell_type": "code",
   "execution_count": 4,
   "id": "c6cfbdad",
   "metadata": {
    "hidden": true
   },
   "outputs": [
    {
     "data": {
      "text/plain": [
       "array([[-2.04582165, -0.13791624, -0.08071423, ...,  2.48194524,\n",
       "         0.74236675,  0.23154789],\n",
       "       [-0.98726024,  1.30120189,  2.37734888, ...,  0.55445754,\n",
       "        -0.21892143, -0.37608578],\n",
       "       [ 0.57335921,  0.09375582,  0.4662521 , ..., -0.6088508 ,\n",
       "         0.79903499, -0.17121177],\n",
       "       ...,\n",
       "       [-0.70737159,  1.07650943,  0.58510456, ..., -1.51337602,\n",
       "         0.90239871, -0.69230951],\n",
       "       [-0.20706849,  1.17319848, -1.94478665, ..., -0.32820676,\n",
       "         1.5711921 ,  1.14877729],\n",
       "       [-2.16769231, -2.54871672,  2.89359255, ...,  0.71535366,\n",
       "         0.34329241,  1.07350284]])"
      ]
     },
     "execution_count": 4,
     "metadata": {},
     "output_type": "execute_result"
    }
   ],
   "source": [
    "X"
   ]
  },
  {
   "cell_type": "code",
   "execution_count": 5,
   "id": "018eae50",
   "metadata": {
    "hidden": true
   },
   "outputs": [
    {
     "data": {
      "text/plain": [
       "array([0, 0, 0, 1, 1, 1, 0, 1, 1, 1])"
      ]
     },
     "execution_count": 5,
     "metadata": {},
     "output_type": "execute_result"
    }
   ],
   "source": [
    "y[:10]"
   ]
  },
  {
   "cell_type": "markdown",
   "id": "cb9887ec",
   "metadata": {},
   "source": [
    "# 2.0 Model Training"
   ]
  },
  {
   "cell_type": "code",
   "execution_count": 6,
   "id": "8d607d8a",
   "metadata": {},
   "outputs": [],
   "source": [
    "# split training and test dataset\n",
    "X_train, X_test, y_train, y_test = ms.train_test_split(X, y, test_size=0.2)"
   ]
  },
  {
   "cell_type": "code",
   "execution_count": 7,
   "id": "18f53d2d",
   "metadata": {},
   "outputs": [],
   "source": [
    "# define\n",
    "model = lm.LogisticRegression(solver='lbfgs')\n",
    "\n",
    "# train\n",
    "model.fit(X_train, y_train)\n",
    "\n",
    "# performance\n",
    "yhat_test = model.predict_proba(X_test)"
   ]
  },
  {
   "cell_type": "code",
   "execution_count": 8,
   "id": "d2696f9b",
   "metadata": {},
   "outputs": [
    {
     "data": {
      "text/plain": [
       "array([[0.93239998, 0.06760002],\n",
       "       [0.87624172, 0.12375828],\n",
       "       [0.11363506, 0.88636494],\n",
       "       [0.875486  , 0.124514  ],\n",
       "       [0.30739012, 0.69260988],\n",
       "       [0.95936125, 0.04063875],\n",
       "       [0.10805201, 0.89194799],\n",
       "       [0.88464872, 0.11535128],\n",
       "       [0.89708454, 0.10291546],\n",
       "       [0.11138358, 0.88861642]])"
      ]
     },
     "execution_count": 8,
     "metadata": {},
     "output_type": "execute_result"
    }
   ],
   "source": [
    "yhat_test[:10]"
   ]
  },
  {
   "cell_type": "code",
   "execution_count": 9,
   "id": "249ff06d",
   "metadata": {},
   "outputs": [],
   "source": [
    "# vamos selecionar as probabilidades da classe 1\n",
    "yhat_test = yhat_test[:, 1]"
   ]
  },
  {
   "cell_type": "code",
   "execution_count": 10,
   "id": "947d5877",
   "metadata": {},
   "outputs": [
    {
     "data": {
      "text/plain": [
       "array([0.06760002, 0.12375828, 0.88636494, 0.124514  , 0.69260988,\n",
       "       0.04063875, 0.89194799, 0.11535128, 0.10291546, 0.88861642])"
      ]
     },
     "execution_count": 10,
     "metadata": {},
     "output_type": "execute_result"
    }
   ],
   "source": [
    "yhat_test[:10]"
   ]
  },
  {
   "cell_type": "code",
   "execution_count": 11,
   "id": "b3fc8109",
   "metadata": {},
   "outputs": [
    {
     "data": {
      "text/plain": [
       "array([0, 0, 1, 0, 0, 0, 1, 0, 0, 1])"
      ]
     },
     "execution_count": 11,
     "metadata": {},
     "output_type": "execute_result"
    }
   ],
   "source": [
    "y_test[:10]"
   ]
  },
  {
   "cell_type": "code",
   "execution_count": null,
   "id": "8771aaff",
   "metadata": {},
   "outputs": [],
   "source": []
  },
  {
   "cell_type": "code",
   "execution_count": 12,
   "id": "3b9ce2b6",
   "metadata": {},
   "outputs": [],
   "source": [
    "fpr, tpr, thresholds = mt.roc_curve(y_test, yhat_test)"
   ]
  },
  {
   "cell_type": "code",
   "execution_count": 13,
   "id": "d8cf5de5",
   "metadata": {},
   "outputs": [
    {
     "data": {
      "text/plain": [
       "array([0.        , 0.        , 0.        , 0.00990099, 0.00990099,\n",
       "       0.01980198, 0.01980198, 0.02970297, 0.02970297, 0.03960396,\n",
       "       0.03960396, 0.04950495, 0.04950495, 0.05940594, 0.05940594,\n",
       "       0.06930693, 0.06930693, 0.07920792, 0.07920792, 0.08910891,\n",
       "       0.08910891, 0.0990099 , 0.0990099 , 0.11881188, 0.11881188,\n",
       "       0.12871287, 0.12871287, 0.13861386, 0.13861386, 0.14851485,\n",
       "       0.14851485, 0.20792079, 0.20792079, 0.22772277, 0.22772277,\n",
       "       0.30693069, 0.30693069, 0.31683168, 0.31683168, 0.32673267,\n",
       "       0.32673267, 0.41584158, 0.41584158, 1.        ])"
      ]
     },
     "execution_count": 13,
     "metadata": {},
     "output_type": "execute_result"
    }
   ],
   "source": [
    "fpr"
   ]
  },
  {
   "cell_type": "code",
   "execution_count": 14,
   "id": "0ec8a739",
   "metadata": {},
   "outputs": [
    {
     "data": {
      "text/plain": [
       "array([0.        , 0.01010101, 0.15151515, 0.15151515, 0.55555556,\n",
       "       0.55555556, 0.5959596 , 0.5959596 , 0.65656566, 0.65656566,\n",
       "       0.68686869, 0.68686869, 0.6969697 , 0.6969697 , 0.72727273,\n",
       "       0.72727273, 0.74747475, 0.74747475, 0.78787879, 0.78787879,\n",
       "       0.7979798 , 0.7979798 , 0.81818182, 0.81818182, 0.86868687,\n",
       "       0.86868687, 0.90909091, 0.90909091, 0.91919192, 0.91919192,\n",
       "       0.92929293, 0.92929293, 0.93939394, 0.93939394, 0.95959596,\n",
       "       0.95959596, 0.96969697, 0.96969697, 0.97979798, 0.97979798,\n",
       "       0.98989899, 0.98989899, 1.        , 1.        ])"
      ]
     },
     "execution_count": 14,
     "metadata": {},
     "output_type": "execute_result"
    }
   ],
   "source": [
    "tpr"
   ]
  },
  {
   "cell_type": "code",
   "execution_count": 15,
   "id": "ca13dd35",
   "metadata": {},
   "outputs": [
    {
     "data": {
      "text/plain": [
       "array([1.99964359e+00, 9.99643593e-01, 9.78008207e-01, 9.77518471e-01,\n",
       "       8.64173254e-01, 8.59063155e-01, 8.51366398e-01, 8.48080767e-01,\n",
       "       8.31370915e-01, 8.29442319e-01, 8.17216106e-01, 8.12995861e-01,\n",
       "       8.06651010e-01, 8.00648056e-01, 7.78714150e-01, 7.76692043e-01,\n",
       "       7.56441834e-01, 7.54868031e-01, 7.32276047e-01, 7.27893947e-01,\n",
       "       7.23407282e-01, 7.22170034e-01, 7.00523199e-01, 6.92609885e-01,\n",
       "       6.43606493e-01, 6.35883546e-01, 5.97825061e-01, 5.90804966e-01,\n",
       "       5.76815837e-01, 5.66428173e-01, 5.35704065e-01, 4.75300431e-01,\n",
       "       4.71915601e-01, 4.52036830e-01, 3.76055561e-01, 2.95719723e-01,\n",
       "       2.93447353e-01, 2.77725541e-01, 2.64327639e-01, 2.62095394e-01,\n",
       "       2.61253882e-01, 1.52991172e-01, 1.49187828e-01, 4.05153735e-04])"
      ]
     },
     "execution_count": 15,
     "metadata": {},
     "output_type": "execute_result"
    }
   ],
   "source": [
    "thresholds"
   ]
  },
  {
   "cell_type": "code",
   "execution_count": 16,
   "id": "be66cb60",
   "metadata": {},
   "outputs": [
    {
     "data": {
      "text/plain": [
       "(200,)"
      ]
     },
     "execution_count": 16,
     "metadata": {},
     "output_type": "execute_result"
    }
   ],
   "source": [
    "yhat_test.shape"
   ]
  },
  {
   "cell_type": "code",
   "execution_count": 37,
   "id": "e00d0c54",
   "metadata": {},
   "outputs": [
    {
     "data": {
      "text/plain": [
       "78"
      ]
     },
     "execution_count": 37,
     "metadata": {},
     "output_type": "execute_result"
    }
   ],
   "source": [
    "len(np.unique(np.round(yhat_test, 2)))"
   ]
  },
  {
   "cell_type": "code",
   "execution_count": 28,
   "id": "da3d2eac",
   "metadata": {},
   "outputs": [
    {
     "data": {
      "text/plain": [
       "(44,)"
      ]
     },
     "execution_count": 28,
     "metadata": {},
     "output_type": "execute_result"
    }
   ],
   "source": [
    "thresholds.shape"
   ]
  },
  {
   "cell_type": "code",
   "execution_count": 36,
   "id": "04752328",
   "metadata": {},
   "outputs": [
    {
     "data": {
      "text/plain": [
       "199"
      ]
     },
     "execution_count": 36,
     "metadata": {},
     "output_type": "execute_result"
    }
   ],
   "source": []
  },
  {
   "cell_type": "code",
   "execution_count": null,
   "id": "90f1ae54",
   "metadata": {},
   "outputs": [],
   "source": []
  },
  {
   "cell_type": "code",
   "execution_count": null,
   "id": "49bbd351",
   "metadata": {},
   "outputs": [],
   "source": []
  },
  {
   "cell_type": "code",
   "execution_count": 18,
   "id": "a3f4a2a5",
   "metadata": {},
   "outputs": [
    {
     "data": {
      "image/png": "[encoded data removed]",
      "text/plain": [
       "<Figure size 640x480 with 1 Axes>"
      ]
     },
     "metadata": {},
     "output_type": "display_data"
    }
   ],
   "source": [
    "plt.plot(fpr, tpr, marker='.')\n",
    "\n",
    "plt.xlabel('False Positive Rate')\n",
    "plt.ylabel('True Positive Rate')\n",
    "\n",
    "plt.show()"
   ]
  },
  {
   "cell_type": "code",
   "execution_count": 19,
   "id": "e16071ab",
   "metadata": {},
   "outputs": [
    {
     "data": {
      "image/png": "[encoded data removed]",
      "text/plain": [
       "<Figure size 640x480 with 1 Axes>"
      ]
     },
     "metadata": {},
     "output_type": "display_data"
    }
   ],
   "source": [
    "plt.plot(thresholds, tpr, 'b--', label='TPR')\n",
    "plt.plot(thresholds, 1-fpr, 'g--', label='FPR')\n",
    "\n",
    "plt.axvline(0.51)\n",
    "\n",
    "plt.xlabel('Thresholds')\n",
    "plt.ylabel('TPR, FPR')\n",
    "\n",
    "plt.legend()\n",
    "plt.show()"
   ]
  },
  {
   "cell_type": "code",
   "execution_count": 20,
   "id": "976318cb",
   "metadata": {},
   "outputs": [
    {
     "data": {
      "text/plain": [
       "array([0, 0, 1, 0, 1, 0, 1, 0, 0, 1, 0, 0, 0, 1, 1, 1, 1, 1, 0, 0, 0, 1,\n",
       "       1, 1, 1, 1, 1, 1, 1, 1, 1, 1, 1, 0, 1, 0, 0, 0, 1, 0, 0, 1, 1, 1,\n",
       "       1, 1, 1, 1, 1, 1, 0, 0, 1, 1, 1, 1, 1, 0, 0, 1, 0, 0, 0, 1, 0, 1,\n",
       "       0, 0, 0, 0, 1, 1, 1, 0, 1, 0, 1, 0, 1, 1, 1, 0, 1, 0, 0, 1, 0, 0,\n",
       "       1, 1, 1, 1, 0, 1, 1, 0, 0, 0, 1, 1, 1, 1, 0, 0, 0, 0, 1, 1, 0, 1,\n",
       "       1, 0, 0, 1, 1, 1, 0, 0, 1, 1, 1, 0, 1, 0, 0, 0, 1, 1, 1, 0, 1, 0,\n",
       "       1, 0, 1, 1, 1, 0, 0, 1, 0, 0, 0, 0, 0, 0, 0, 0, 0, 1, 1, 1, 1, 0,\n",
       "       1, 1, 1, 1, 1, 0, 1, 0, 0, 0, 1, 1, 0, 0, 1, 0, 1, 0, 0, 1, 0, 0,\n",
       "       1, 0, 0, 1, 1, 1, 1, 0, 1, 0, 0, 0, 1, 1, 0, 1, 1, 1, 1, 0, 1, 0,\n",
       "       1, 1])"
      ]
     },
     "execution_count": 20,
     "metadata": {},
     "output_type": "execute_result"
    }
   ],
   "source": [
    "tr = 0.51\n",
    "\n",
    "np.array([1 if yhat_test[i] > tr else 0 for i in range(yhat_test.shape[0])])"
   ]
  },
  {
   "cell_type": "code",
   "execution_count": null,
   "id": "b335f8d2",
   "metadata": {},
   "outputs": [],
   "source": []
  },
  {
   "cell_type": "code",
   "execution_count": null,
   "id": "ceb51318",
   "metadata": {},
   "outputs": [],
   "source": []
  }
 ],
 "metadata": {
  "kernelspec": {
   "display_name": "Python 3 (ipykernel)",
   "language": "python",
   "name": "python3"
  },
  "language_info": {
   "codemirror_mode": {
    "name": "ipython",
    "version": 3
   },
   "file_extension": ".py",
   "mimetype": "text/x-python",
   "name": "python",
   "nbconvert_exporter": "python",
   "pygments_lexer": "ipython3",
   "version": "3.10.6"
  }
 },
 "nbformat": 4,
 "nbformat_minor": 5
}
