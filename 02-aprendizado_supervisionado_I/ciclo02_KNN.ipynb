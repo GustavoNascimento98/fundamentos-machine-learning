{
 "cells": [
  {
   "cell_type": "markdown",
   "id": "9ec8ef27",
   "metadata": {},
   "source": [
    "# Ciclo 02: Aprendizado Supervisionado - Classificação"
   ]
  },
  {
   "cell_type": "markdown",
   "id": "6b410442",
   "metadata": {
    "heading_collapsed": true
   },
   "source": [
    "## 1.0 Import Libraries"
   ]
  },
  {
   "cell_type": "code",
   "execution_count": 1,
   "id": "876eb9e0",
   "metadata": {
    "hidden": true
   },
   "outputs": [],
   "source": [
    "import pandas as pd\n",
    "from sklearn.neighbors import KNeighborsClassifier\n",
    "from sklearn import metrics as mt"
   ]
  },
  {
   "cell_type": "markdown",
   "id": "c71d9ddb",
   "metadata": {
    "heading_collapsed": true
   },
   "source": [
    "## 1.1 Load Dataset"
   ]
  },
  {
   "cell_type": "code",
   "execution_count": 2,
   "id": "f9d055c9",
   "metadata": {
    "hidden": true
   },
   "outputs": [],
   "source": [
    "df = pd.read_csv('train.csv')"
   ]
  },
  {
   "cell_type": "code",
   "execution_count": 3,
   "id": "894d2445",
   "metadata": {
    "hidden": true
   },
   "outputs": [
    {
     "data": {
      "text/html": [
       "<div>\n",
       "<style scoped>\n",
       "    .dataframe tbody tr th:only-of-type {\n",
       "        vertical-align: middle;\n",
       "    }\n",
       "\n",
       "    .dataframe tbody tr th {\n",
       "        vertical-align: top;\n",
       "    }\n",
       "\n",
       "    .dataframe thead th {\n",
       "        text-align: right;\n",
       "    }\n",
       "</style>\n",
       "<table border=\"1\" class=\"dataframe\">\n",
       "  <thead>\n",
       "    <tr style=\"text-align: right;\">\n",
       "      <th></th>\n",
       "      <th>id_cliente</th>\n",
       "      <th>idade</th>\n",
       "      <th>saldo_atual</th>\n",
       "      <th>divida_atual</th>\n",
       "      <th>renda_anual</th>\n",
       "      <th>valor_em_investimentos</th>\n",
       "      <th>taxa_utilizacao_credito</th>\n",
       "      <th>num_emprestimos</th>\n",
       "      <th>num_contas_bancarias</th>\n",
       "      <th>num_cartoes_credito</th>\n",
       "      <th>dias_atraso_dt_venc</th>\n",
       "      <th>num_pgtos_atrasados</th>\n",
       "      <th>num_consultas_credito</th>\n",
       "      <th>taxa_juros</th>\n",
       "      <th>investe_exterior</th>\n",
       "      <th>pessoa_polit_exp</th>\n",
       "      <th>limite_adicional</th>\n",
       "    </tr>\n",
       "  </thead>\n",
       "  <tbody>\n",
       "    <tr>\n",
       "      <th>0</th>\n",
       "      <td>1767</td>\n",
       "      <td>21</td>\n",
       "      <td>278.172008</td>\n",
       "      <td>2577.05</td>\n",
       "      <td>24196.89636</td>\n",
       "      <td>104.306544</td>\n",
       "      <td>31.038763</td>\n",
       "      <td>6</td>\n",
       "      <td>5</td>\n",
       "      <td>7</td>\n",
       "      <td>21</td>\n",
       "      <td>14</td>\n",
       "      <td>9</td>\n",
       "      <td>15</td>\n",
       "      <td>Não</td>\n",
       "      <td>Não</td>\n",
       "      <td>Negar</td>\n",
       "    </tr>\n",
       "    <tr>\n",
       "      <th>1</th>\n",
       "      <td>11920</td>\n",
       "      <td>40</td>\n",
       "      <td>268.874152</td>\n",
       "      <td>2465.39</td>\n",
       "      <td>19227.37796</td>\n",
       "      <td>69.858778</td>\n",
       "      <td>36.917093</td>\n",
       "      <td>5</td>\n",
       "      <td>8</td>\n",
       "      <td>5</td>\n",
       "      <td>40</td>\n",
       "      <td>23</td>\n",
       "      <td>10</td>\n",
       "      <td>18</td>\n",
       "      <td>Não</td>\n",
       "      <td>Não</td>\n",
       "      <td>Negar</td>\n",
       "    </tr>\n",
       "    <tr>\n",
       "      <th>2</th>\n",
       "      <td>8910</td>\n",
       "      <td>36</td>\n",
       "      <td>446.643127</td>\n",
       "      <td>1055.29</td>\n",
       "      <td>42822.28223</td>\n",
       "      <td>134.201478</td>\n",
       "      <td>34.561714</td>\n",
       "      <td>0</td>\n",
       "      <td>3</td>\n",
       "      <td>6</td>\n",
       "      <td>26</td>\n",
       "      <td>13</td>\n",
       "      <td>3</td>\n",
       "      <td>15</td>\n",
       "      <td>Sim</td>\n",
       "      <td>Não</td>\n",
       "      <td>Negar</td>\n",
       "    </tr>\n",
       "    <tr>\n",
       "      <th>3</th>\n",
       "      <td>4964</td>\n",
       "      <td>58</td>\n",
       "      <td>321.141267</td>\n",
       "      <td>703.05</td>\n",
       "      <td>51786.82600</td>\n",
       "      <td>297.350067</td>\n",
       "      <td>31.493561</td>\n",
       "      <td>0</td>\n",
       "      <td>3</td>\n",
       "      <td>7</td>\n",
       "      <td>12</td>\n",
       "      <td>7</td>\n",
       "      <td>2</td>\n",
       "      <td>1</td>\n",
       "      <td>Sim</td>\n",
       "      <td>Não</td>\n",
       "      <td>Negar</td>\n",
       "    </tr>\n",
       "    <tr>\n",
       "      <th>4</th>\n",
       "      <td>10100</td>\n",
       "      <td>35</td>\n",
       "      <td>428.716114</td>\n",
       "      <td>891.29</td>\n",
       "      <td>44626.85346</td>\n",
       "      <td>134.201478</td>\n",
       "      <td>28.028887</td>\n",
       "      <td>2</td>\n",
       "      <td>8</td>\n",
       "      <td>7</td>\n",
       "      <td>24</td>\n",
       "      <td>10</td>\n",
       "      <td>8</td>\n",
       "      <td>20</td>\n",
       "      <td>Sim</td>\n",
       "      <td>Não</td>\n",
       "      <td>Negar</td>\n",
       "    </tr>\n",
       "  </tbody>\n",
       "</table>\n",
       "</div>"
      ],
      "text/plain": [
       "   id_cliente  idade  saldo_atual  divida_atual  renda_anual  \\\n",
       "0        1767     21   278.172008       2577.05  24196.89636   \n",
       "1       11920     40   268.874152       2465.39  19227.37796   \n",
       "2        8910     36   446.643127       1055.29  42822.28223   \n",
       "3        4964     58   321.141267        703.05  51786.82600   \n",
       "4       10100     35   428.716114        891.29  44626.85346   \n",
       "\n",
       "   valor_em_investimentos  taxa_utilizacao_credito  num_emprestimos  \\\n",
       "0              104.306544                31.038763                6   \n",
       "1               69.858778                36.917093                5   \n",
       "2              134.201478                34.561714                0   \n",
       "3              297.350067                31.493561                0   \n",
       "4              134.201478                28.028887                2   \n",
       "\n",
       "   num_contas_bancarias  num_cartoes_credito  dias_atraso_dt_venc  \\\n",
       "0                     5                    7                   21   \n",
       "1                     8                    5                   40   \n",
       "2                     3                    6                   26   \n",
       "3                     3                    7                   12   \n",
       "4                     8                    7                   24   \n",
       "\n",
       "   num_pgtos_atrasados  num_consultas_credito  taxa_juros investe_exterior  \\\n",
       "0                   14                      9          15              Não   \n",
       "1                   23                     10          18              Não   \n",
       "2                   13                      3          15              Sim   \n",
       "3                    7                      2           1              Sim   \n",
       "4                   10                      8          20              Sim   \n",
       "\n",
       "  pessoa_polit_exp limite_adicional  \n",
       "0              Não            Negar  \n",
       "1              Não            Negar  \n",
       "2              Não            Negar  \n",
       "3              Não            Negar  \n",
       "4              Não            Negar  "
      ]
     },
     "execution_count": 3,
     "metadata": {},
     "output_type": "execute_result"
    }
   ],
   "source": [
    "df.head()"
   ]
  },
  {
   "cell_type": "markdown",
   "id": "9e15fbc3",
   "metadata": {
    "hidden": true
   },
   "source": [
    "Esse dataset foi usado no último hackday. Nossa tarefa era treinar algoritmos para prever se o banco deveria liberar um empréstimo para os seus clientes, ao final do treinamento nós comparamos os outputs com targets da coluna `limite_adicional`."
   ]
  },
  {
   "cell_type": "code",
   "execution_count": 6,
   "id": "6367b0fc",
   "metadata": {
    "hidden": true
   },
   "outputs": [
    {
     "data": {
      "text/plain": [
       "array(['Negar', 'Conceder'], dtype=object)"
      ]
     },
     "execution_count": 6,
     "metadata": {},
     "output_type": "execute_result"
    }
   ],
   "source": [
    "df['limite_adicional'].unique()"
   ]
  },
  {
   "cell_type": "code",
   "execution_count": 7,
   "id": "ad6e5808",
   "metadata": {
    "hidden": true
   },
   "outputs": [
    {
     "data": {
      "text/plain": [
       "Negar       7995\n",
       "Conceder    1505\n",
       "Name: limite_adicional, dtype: int64"
      ]
     },
     "execution_count": 7,
     "metadata": {},
     "output_type": "execute_result"
    }
   ],
   "source": [
    "df['limite_adicional'].value_counts()"
   ]
  },
  {
   "cell_type": "code",
   "execution_count": null,
   "id": "e8622dde",
   "metadata": {
    "hidden": true
   },
   "outputs": [],
   "source": []
  },
  {
   "cell_type": "markdown",
   "id": "78818393",
   "metadata": {
    "heading_collapsed": true
   },
   "source": [
    "## 2.0 Seleção de features"
   ]
  },
  {
   "cell_type": "code",
   "execution_count": 8,
   "id": "f75101d2",
   "metadata": {
    "hidden": true
   },
   "outputs": [
    {
     "data": {
      "text/plain": [
       "Index(['id_cliente', 'idade', 'saldo_atual', 'divida_atual', 'renda_anual',\n",
       "       'valor_em_investimentos', 'taxa_utilizacao_credito', 'num_emprestimos',\n",
       "       'num_contas_bancarias', 'num_cartoes_credito', 'dias_atraso_dt_venc',\n",
       "       'num_pgtos_atrasados', 'num_consultas_credito', 'taxa_juros',\n",
       "       'investe_exterior', 'pessoa_polit_exp', 'limite_adicional'],\n",
       "      dtype='object')"
      ]
     },
     "execution_count": 8,
     "metadata": {},
     "output_type": "execute_result"
    }
   ],
   "source": [
    "df.columns"
   ]
  },
  {
   "cell_type": "code",
   "execution_count": 9,
   "id": "df47008b",
   "metadata": {
    "hidden": true
   },
   "outputs": [],
   "source": [
    "# x_train = dataset que contém as features de treinamento\n",
    "# y_train = series que contém os labels (rótulos das classes)\n",
    "\n",
    "features = ['idade', 'saldo_atual', 'divida_atual', 'renda_anual',\n",
    "       'valor_em_investimentos', 'taxa_utilizacao_credito', 'num_emprestimos',\n",
    "       'num_contas_bancarias', 'num_cartoes_credito', 'dias_atraso_dt_venc',\n",
    "       'num_pgtos_atrasados', 'num_consultas_credito', 'taxa_juros']\n",
    "\n",
    "label = 'limite_adicional'\n",
    "\n",
    "\n",
    "x_train = df.loc[:, features]\n",
    "y_train = df.loc[:, label]"
   ]
  },
  {
   "cell_type": "code",
   "execution_count": null,
   "id": "3f2c7e68",
   "metadata": {
    "hidden": true
   },
   "outputs": [],
   "source": []
  },
  {
   "cell_type": "markdown",
   "id": "b2eb8b40",
   "metadata": {
    "heading_collapsed": true
   },
   "source": [
    "## 3.0 Treinamento"
   ]
  },
  {
   "cell_type": "code",
   "execution_count": 10,
   "id": "653fadaa",
   "metadata": {
    "hidden": true
   },
   "outputs": [],
   "source": [
    "# definição parâmetro de treinamento\n",
    "k = 7\n",
    "\n",
    "# criação do objeto que perfomará o algoritmo de classificação. Nesse caso\n",
    "# o objeto 'knn_classifier' é uma instância da classe 'KNeighborsClassifier'\n",
    "# que avaliará treinará o algoritmo utilizando os 7 vizinhos mais próximos.\n",
    "knn_classifier = KNeighborsClassifier(n_neighbors=k)"
   ]
  },
  {
   "cell_type": "code",
   "execution_count": 11,
   "id": "a03c3b12",
   "metadata": {
    "hidden": true
   },
   "outputs": [
    {
     "data": {
      "text/plain": [
       "sklearn.neighbors._classification.KNeighborsClassifier"
      ]
     },
     "execution_count": 11,
     "metadata": {},
     "output_type": "execute_result"
    }
   ],
   "source": [
    "type(knn_classifier)"
   ]
  },
  {
   "cell_type": "code",
   "execution_count": 12,
   "id": "7f91fbcd",
   "metadata": {
    "hidden": true
   },
   "outputs": [
    {
     "data": {
      "text/html": [
       "<style>#sk-container-id-1 {color: black;background-color: white;}#sk-container-id-1 pre{padding: 0;}#sk-container-id-1 div.sk-toggleable {background-color: white;}#sk-container-id-1 label.sk-toggleable__label {cursor: pointer;display: block;width: 100%;margin-bottom: 0;padding: 0.3em;box-sizing: border-box;text-align: center;}#sk-container-id-1 label.sk-toggleable__label-arrow:before {content: \"▸\";float: left;margin-right: 0.25em;color: #696969;}#sk-container-id-1 label.sk-toggleable__label-arrow:hover:before {color: black;}#sk-container-id-1 div.sk-estimator:hover label.sk-toggleable__label-arrow:before {color: black;}#sk-container-id-1 div.sk-toggleable__content {max-height: 0;max-width: 0;overflow: hidden;text-align: left;background-color: #f0f8ff;}#sk-container-id-1 div.sk-toggleable__content pre {margin: 0.2em;color: black;border-radius: 0.25em;background-color: #f0f8ff;}#sk-container-id-1 input.sk-toggleable__control:checked~div.sk-toggleable__content {max-height: 200px;max-width: 100%;overflow: auto;}#sk-container-id-1 input.sk-toggleable__control:checked~label.sk-toggleable__label-arrow:before {content: \"▾\";}#sk-container-id-1 div.sk-estimator input.sk-toggleable__control:checked~label.sk-toggleable__label {background-color: #d4ebff;}#sk-container-id-1 div.sk-label input.sk-toggleable__control:checked~label.sk-toggleable__label {background-color: #d4ebff;}#sk-container-id-1 input.sk-hidden--visually {border: 0;clip: rect(1px 1px 1px 1px);clip: rect(1px, 1px, 1px, 1px);height: 1px;margin: -1px;overflow: hidden;padding: 0;position: absolute;width: 1px;}#sk-container-id-1 div.sk-estimator {font-family: monospace;background-color: #f0f8ff;border: 1px dotted black;border-radius: 0.25em;box-sizing: border-box;margin-bottom: 0.5em;}#sk-container-id-1 div.sk-estimator:hover {background-color: #d4ebff;}#sk-container-id-1 div.sk-parallel-item::after {content: \"\";width: 100%;border-bottom: 1px solid gray;flex-grow: 1;}#sk-container-id-1 div.sk-label:hover label.sk-toggleable__label {background-color: #d4ebff;}#sk-container-id-1 div.sk-serial::before {content: \"\";position: absolute;border-left: 1px solid gray;box-sizing: border-box;top: 0;bottom: 0;left: 50%;z-index: 0;}#sk-container-id-1 div.sk-serial {display: flex;flex-direction: column;align-items: center;background-color: white;padding-right: 0.2em;padding-left: 0.2em;position: relative;}#sk-container-id-1 div.sk-item {position: relative;z-index: 1;}#sk-container-id-1 div.sk-parallel {display: flex;align-items: stretch;justify-content: center;background-color: white;position: relative;}#sk-container-id-1 div.sk-item::before, #sk-container-id-1 div.sk-parallel-item::before {content: \"\";position: absolute;border-left: 1px solid gray;box-sizing: border-box;top: 0;bottom: 0;left: 50%;z-index: -1;}#sk-container-id-1 div.sk-parallel-item {display: flex;flex-direction: column;z-index: 1;position: relative;background-color: white;}#sk-container-id-1 div.sk-parallel-item:first-child::after {align-self: flex-end;width: 50%;}#sk-container-id-1 div.sk-parallel-item:last-child::after {align-self: flex-start;width: 50%;}#sk-container-id-1 div.sk-parallel-item:only-child::after {width: 0;}#sk-container-id-1 div.sk-dashed-wrapped {border: 1px dashed gray;margin: 0 0.4em 0.5em 0.4em;box-sizing: border-box;padding-bottom: 0.4em;background-color: white;}#sk-container-id-1 div.sk-label label {font-family: monospace;font-weight: bold;display: inline-block;line-height: 1.2em;}#sk-container-id-1 div.sk-label-container {text-align: center;}#sk-container-id-1 div.sk-container {/* jupyter's `normalize.less` sets `[hidden] { display: none; }` but bootstrap.min.css set `[hidden] { display: none !important; }` so we also need the `!important` here to be able to override the default hidden behavior on the sphinx rendered scikit-learn.org. See: https://github.com/scikit-learn/scikit-learn/issues/21755 */display: inline-block !important;position: relative;}#sk-container-id-1 div.sk-text-repr-fallback {display: none;}</style><div id=\"sk-container-id-1\" class=\"sk-top-container\"><div class=\"sk-text-repr-fallback\"><pre>KNeighborsClassifier(n_neighbors=7)</pre><b>In a Jupyter environment, please rerun this cell to show the HTML representation or trust the notebook. <br />On GitHub, the HTML representation is unable to render, please try loading this page with nbviewer.org.</b></div><div class=\"sk-container\" hidden><div class=\"sk-item\"><div class=\"sk-estimator sk-toggleable\"><input class=\"sk-toggleable__control sk-hidden--visually\" id=\"sk-estimator-id-1\" type=\"checkbox\" checked><label for=\"sk-estimator-id-1\" class=\"sk-toggleable__label sk-toggleable__label-arrow\">KNeighborsClassifier</label><div class=\"sk-toggleable__content\"><pre>KNeighborsClassifier(n_neighbors=7)</pre></div></div></div></div></div>"
      ],
      "text/plain": [
       "KNeighborsClassifier(n_neighbors=7)"
      ]
     },
     "execution_count": 12,
     "metadata": {},
     "output_type": "execute_result"
    }
   ],
   "source": [
    "knn_classifier"
   ]
  },
  {
   "cell_type": "markdown",
   "id": "33b65316",
   "metadata": {
    "hidden": true
   },
   "source": [
    "Vamos agora treinar o algoritmo no conjunto de treino `x_train`. Para isso nós chamamos o método `.fit()` do objeto `KNeighborsClassifier`e passamos como parâmetros o conjunto de treino e os rótulos das classes."
   ]
  },
  {
   "cell_type": "code",
   "execution_count": 13,
   "id": "50aa2ed1",
   "metadata": {
    "hidden": true
   },
   "outputs": [
    {
     "data": {
      "text/html": [
       "<style>#sk-container-id-2 {color: black;background-color: white;}#sk-container-id-2 pre{padding: 0;}#sk-container-id-2 div.sk-toggleable {background-color: white;}#sk-container-id-2 label.sk-toggleable__label {cursor: pointer;display: block;width: 100%;margin-bottom: 0;padding: 0.3em;box-sizing: border-box;text-align: center;}#sk-container-id-2 label.sk-toggleable__label-arrow:before {content: \"▸\";float: left;margin-right: 0.25em;color: #696969;}#sk-container-id-2 label.sk-toggleable__label-arrow:hover:before {color: black;}#sk-container-id-2 div.sk-estimator:hover label.sk-toggleable__label-arrow:before {color: black;}#sk-container-id-2 div.sk-toggleable__content {max-height: 0;max-width: 0;overflow: hidden;text-align: left;background-color: #f0f8ff;}#sk-container-id-2 div.sk-toggleable__content pre {margin: 0.2em;color: black;border-radius: 0.25em;background-color: #f0f8ff;}#sk-container-id-2 input.sk-toggleable__control:checked~div.sk-toggleable__content {max-height: 200px;max-width: 100%;overflow: auto;}#sk-container-id-2 input.sk-toggleable__control:checked~label.sk-toggleable__label-arrow:before {content: \"▾\";}#sk-container-id-2 div.sk-estimator input.sk-toggleable__control:checked~label.sk-toggleable__label {background-color: #d4ebff;}#sk-container-id-2 div.sk-label input.sk-toggleable__control:checked~label.sk-toggleable__label {background-color: #d4ebff;}#sk-container-id-2 input.sk-hidden--visually {border: 0;clip: rect(1px 1px 1px 1px);clip: rect(1px, 1px, 1px, 1px);height: 1px;margin: -1px;overflow: hidden;padding: 0;position: absolute;width: 1px;}#sk-container-id-2 div.sk-estimator {font-family: monospace;background-color: #f0f8ff;border: 1px dotted black;border-radius: 0.25em;box-sizing: border-box;margin-bottom: 0.5em;}#sk-container-id-2 div.sk-estimator:hover {background-color: #d4ebff;}#sk-container-id-2 div.sk-parallel-item::after {content: \"\";width: 100%;border-bottom: 1px solid gray;flex-grow: 1;}#sk-container-id-2 div.sk-label:hover label.sk-toggleable__label {background-color: #d4ebff;}#sk-container-id-2 div.sk-serial::before {content: \"\";position: absolute;border-left: 1px solid gray;box-sizing: border-box;top: 0;bottom: 0;left: 50%;z-index: 0;}#sk-container-id-2 div.sk-serial {display: flex;flex-direction: column;align-items: center;background-color: white;padding-right: 0.2em;padding-left: 0.2em;position: relative;}#sk-container-id-2 div.sk-item {position: relative;z-index: 1;}#sk-container-id-2 div.sk-parallel {display: flex;align-items: stretch;justify-content: center;background-color: white;position: relative;}#sk-container-id-2 div.sk-item::before, #sk-container-id-2 div.sk-parallel-item::before {content: \"\";position: absolute;border-left: 1px solid gray;box-sizing: border-box;top: 0;bottom: 0;left: 50%;z-index: -1;}#sk-container-id-2 div.sk-parallel-item {display: flex;flex-direction: column;z-index: 1;position: relative;background-color: white;}#sk-container-id-2 div.sk-parallel-item:first-child::after {align-self: flex-end;width: 50%;}#sk-container-id-2 div.sk-parallel-item:last-child::after {align-self: flex-start;width: 50%;}#sk-container-id-2 div.sk-parallel-item:only-child::after {width: 0;}#sk-container-id-2 div.sk-dashed-wrapped {border: 1px dashed gray;margin: 0 0.4em 0.5em 0.4em;box-sizing: border-box;padding-bottom: 0.4em;background-color: white;}#sk-container-id-2 div.sk-label label {font-family: monospace;font-weight: bold;display: inline-block;line-height: 1.2em;}#sk-container-id-2 div.sk-label-container {text-align: center;}#sk-container-id-2 div.sk-container {/* jupyter's `normalize.less` sets `[hidden] { display: none; }` but bootstrap.min.css set `[hidden] { display: none !important; }` so we also need the `!important` here to be able to override the default hidden behavior on the sphinx rendered scikit-learn.org. See: https://github.com/scikit-learn/scikit-learn/issues/21755 */display: inline-block !important;position: relative;}#sk-container-id-2 div.sk-text-repr-fallback {display: none;}</style><div id=\"sk-container-id-2\" class=\"sk-top-container\"><div class=\"sk-text-repr-fallback\"><pre>KNeighborsClassifier(n_neighbors=7)</pre><b>In a Jupyter environment, please rerun this cell to show the HTML representation or trust the notebook. <br />On GitHub, the HTML representation is unable to render, please try loading this page with nbviewer.org.</b></div><div class=\"sk-container\" hidden><div class=\"sk-item\"><div class=\"sk-estimator sk-toggleable\"><input class=\"sk-toggleable__control sk-hidden--visually\" id=\"sk-estimator-id-2\" type=\"checkbox\" checked><label for=\"sk-estimator-id-2\" class=\"sk-toggleable__label sk-toggleable__label-arrow\">KNeighborsClassifier</label><div class=\"sk-toggleable__content\"><pre>KNeighborsClassifier(n_neighbors=7)</pre></div></div></div></div></div>"
      ],
      "text/plain": [
       "KNeighborsClassifier(n_neighbors=7)"
      ]
     },
     "execution_count": 13,
     "metadata": {},
     "output_type": "execute_result"
    }
   ],
   "source": [
    "# treinamento do algoritmo no conjunto de dados.\n",
    "knn_classifier.fit(x_train, y_train)"
   ]
  },
  {
   "cell_type": "markdown",
   "id": "00add071",
   "metadata": {
    "hidden": true
   },
   "source": [
    "Vamos agora utilizar o algoritmo treinado para tentar prever qual é classe (`Liberar` ou `Negar`) de cada registro (cliente) do dataset de treino. Para isso nós chamamos o método `.predict()`."
   ]
  },
  {
   "cell_type": "code",
   "execution_count": 14,
   "id": "8a88523d",
   "metadata": {
    "hidden": true
   },
   "outputs": [],
   "source": [
    "y_pred = knn_classifier.predict(x_train)"
   ]
  },
  {
   "cell_type": "code",
   "execution_count": 15,
   "id": "6ae9145a",
   "metadata": {
    "hidden": true
   },
   "outputs": [
    {
     "data": {
      "text/plain": [
       "array(['Negar', 'Negar', 'Negar', ..., 'Negar', 'Negar', 'Negar'],\n",
       "      dtype=object)"
      ]
     },
     "execution_count": 15,
     "metadata": {},
     "output_type": "execute_result"
    }
   ],
   "source": [
    "# esses são os rótulos atribuídos para os clientes pelo algoritmo\n",
    "y_pred"
   ]
  },
  {
   "cell_type": "markdown",
   "id": "436dbecb",
   "metadata": {
    "hidden": true
   },
   "source": [
    "Para visualizarmos melhor, vamos criar um dataframe com os rótulos originais e os atribuídos pelo algoritmo."
   ]
  },
  {
   "cell_type": "code",
   "execution_count": 19,
   "id": "5f9780af",
   "metadata": {
    "hidden": true
   },
   "outputs": [
    {
     "data": {
      "text/html": [
       "<div>\n",
       "<style scoped>\n",
       "    .dataframe tbody tr th:only-of-type {\n",
       "        vertical-align: middle;\n",
       "    }\n",
       "\n",
       "    .dataframe tbody tr th {\n",
       "        vertical-align: top;\n",
       "    }\n",
       "\n",
       "    .dataframe thead th {\n",
       "        text-align: right;\n",
       "    }\n",
       "</style>\n",
       "<table border=\"1\" class=\"dataframe\">\n",
       "  <thead>\n",
       "    <tr style=\"text-align: right;\">\n",
       "      <th></th>\n",
       "      <th>id_cliente</th>\n",
       "      <th>idade</th>\n",
       "      <th>limite_adicional</th>\n",
       "      <th>classificacao</th>\n",
       "    </tr>\n",
       "  </thead>\n",
       "  <tbody>\n",
       "    <tr>\n",
       "      <th>2155</th>\n",
       "      <td>10385</td>\n",
       "      <td>39</td>\n",
       "      <td>Negar</td>\n",
       "      <td>Negar</td>\n",
       "    </tr>\n",
       "    <tr>\n",
       "      <th>4956</th>\n",
       "      <td>8261</td>\n",
       "      <td>35</td>\n",
       "      <td>Negar</td>\n",
       "      <td>Negar</td>\n",
       "    </tr>\n",
       "    <tr>\n",
       "      <th>3753</th>\n",
       "      <td>1544</td>\n",
       "      <td>34</td>\n",
       "      <td>Negar</td>\n",
       "      <td>Negar</td>\n",
       "    </tr>\n",
       "    <tr>\n",
       "      <th>6795</th>\n",
       "      <td>1472</td>\n",
       "      <td>25</td>\n",
       "      <td>Negar</td>\n",
       "      <td>Negar</td>\n",
       "    </tr>\n",
       "    <tr>\n",
       "      <th>8013</th>\n",
       "      <td>10602</td>\n",
       "      <td>24</td>\n",
       "      <td>Negar</td>\n",
       "      <td>Negar</td>\n",
       "    </tr>\n",
       "    <tr>\n",
       "      <th>7192</th>\n",
       "      <td>4349</td>\n",
       "      <td>25</td>\n",
       "      <td>Negar</td>\n",
       "      <td>Negar</td>\n",
       "    </tr>\n",
       "    <tr>\n",
       "      <th>7861</th>\n",
       "      <td>4862</td>\n",
       "      <td>35</td>\n",
       "      <td>Negar</td>\n",
       "      <td>Negar</td>\n",
       "    </tr>\n",
       "    <tr>\n",
       "      <th>8138</th>\n",
       "      <td>1858</td>\n",
       "      <td>22</td>\n",
       "      <td>Negar</td>\n",
       "      <td>Conceder</td>\n",
       "    </tr>\n",
       "    <tr>\n",
       "      <th>469</th>\n",
       "      <td>10985</td>\n",
       "      <td>43</td>\n",
       "      <td>Negar</td>\n",
       "      <td>Negar</td>\n",
       "    </tr>\n",
       "    <tr>\n",
       "      <th>4494</th>\n",
       "      <td>7531</td>\n",
       "      <td>47</td>\n",
       "      <td>Negar</td>\n",
       "      <td>Negar</td>\n",
       "    </tr>\n",
       "  </tbody>\n",
       "</table>\n",
       "</div>"
      ],
      "text/plain": [
       "      id_cliente  idade limite_adicional classificacao\n",
       "2155       10385     39            Negar         Negar\n",
       "4956        8261     35            Negar         Negar\n",
       "3753        1544     34            Negar         Negar\n",
       "6795        1472     25            Negar         Negar\n",
       "8013       10602     24            Negar         Negar\n",
       "7192        4349     25            Negar         Negar\n",
       "7861        4862     35            Negar         Negar\n",
       "8138        1858     22            Negar      Conceder\n",
       "469        10985     43            Negar         Negar\n",
       "4494        7531     47            Negar         Negar"
      ]
     },
     "execution_count": 19,
     "metadata": {},
     "output_type": "execute_result"
    }
   ],
   "source": [
    "df_result = df.copy()\n",
    "df_result['classificacao'] = y_pred\n",
    "\n",
    "df_result.loc[:, ['id_cliente', 'idade', 'limite_adicional', 'classificacao']].sample(10)"
   ]
  },
  {
   "cell_type": "code",
   "execution_count": null,
   "id": "4ff77cc9",
   "metadata": {
    "hidden": true
   },
   "outputs": [],
   "source": []
  },
  {
   "cell_type": "markdown",
   "id": "581aee90",
   "metadata": {},
   "source": [
    "## 4.0 Performance"
   ]
  },
  {
   "cell_type": "markdown",
   "id": "8f502a24",
   "metadata": {
    "heading_collapsed": true
   },
   "source": [
    "### Matriz de Confusão e Acurácia"
   ]
  },
  {
   "cell_type": "markdown",
   "id": "cf830cc4",
   "metadata": {
    "hidden": true
   },
   "source": [
    "Antes de verificarmos a performance do nosso algoritmo, vamos primeiro verificar o balanceamento do dataset."
   ]
  },
  {
   "cell_type": "code",
   "execution_count": 20,
   "id": "55e79125",
   "metadata": {
    "hidden": true
   },
   "outputs": [
    {
     "data": {
      "text/plain": [
       "Negar       7995\n",
       "Conceder    1505\n",
       "Name: limite_adicional, dtype: int64"
      ]
     },
     "execution_count": 20,
     "metadata": {},
     "output_type": "execute_result"
    }
   ],
   "source": [
    "df.loc[:, 'limite_adicional'].value_counts()"
   ]
  },
  {
   "cell_type": "code",
   "execution_count": 21,
   "id": "b06514d1",
   "metadata": {
    "hidden": true
   },
   "outputs": [
    {
     "data": {
      "text/plain": [
       "Negar       0.841579\n",
       "Conceder    0.158421\n",
       "Name: limite_adicional, dtype: float64"
      ]
     },
     "execution_count": 21,
     "metadata": {},
     "output_type": "execute_result"
    }
   ],
   "source": [
    "df.loc[:, 'limite_adicional'].value_counts(normalize=True)"
   ]
  },
  {
   "cell_type": "markdown",
   "id": "926dfdf6",
   "metadata": {
    "hidden": true
   },
   "source": [
    "Uma maneira não muito convencional de avaliarmos a performance do nosso algoritmo seria nos criamos uma nova coluna chamada `acertos` com valor `1` se os valores da coluna `limite_adicional` forem iguais a `classificacao` e `0` caso contrário e depois somar os valores dessa coluna."
   ]
  },
  {
   "cell_type": "code",
   "execution_count": 22,
   "id": "4bc82d02",
   "metadata": {
    "hidden": true
   },
   "outputs": [
    {
     "data": {
      "text/html": [
       "<div>\n",
       "<style scoped>\n",
       "    .dataframe tbody tr th:only-of-type {\n",
       "        vertical-align: middle;\n",
       "    }\n",
       "\n",
       "    .dataframe tbody tr th {\n",
       "        vertical-align: top;\n",
       "    }\n",
       "\n",
       "    .dataframe thead th {\n",
       "        text-align: right;\n",
       "    }\n",
       "</style>\n",
       "<table border=\"1\" class=\"dataframe\">\n",
       "  <thead>\n",
       "    <tr style=\"text-align: right;\">\n",
       "      <th></th>\n",
       "      <th>id_cliente</th>\n",
       "      <th>idade</th>\n",
       "      <th>limite_adicional</th>\n",
       "      <th>classificacao</th>\n",
       "      <th>acertos</th>\n",
       "    </tr>\n",
       "  </thead>\n",
       "  <tbody>\n",
       "    <tr>\n",
       "      <th>6909</th>\n",
       "      <td>2254</td>\n",
       "      <td>26</td>\n",
       "      <td>Conceder</td>\n",
       "      <td>Conceder</td>\n",
       "      <td>1</td>\n",
       "    </tr>\n",
       "    <tr>\n",
       "      <th>4767</th>\n",
       "      <td>5764</td>\n",
       "      <td>42</td>\n",
       "      <td>Negar</td>\n",
       "      <td>Negar</td>\n",
       "      <td>1</td>\n",
       "    </tr>\n",
       "    <tr>\n",
       "      <th>8560</th>\n",
       "      <td>83</td>\n",
       "      <td>43</td>\n",
       "      <td>Negar</td>\n",
       "      <td>Negar</td>\n",
       "      <td>1</td>\n",
       "    </tr>\n",
       "    <tr>\n",
       "      <th>4883</th>\n",
       "      <td>10645</td>\n",
       "      <td>24</td>\n",
       "      <td>Conceder</td>\n",
       "      <td>Conceder</td>\n",
       "      <td>1</td>\n",
       "    </tr>\n",
       "    <tr>\n",
       "      <th>4578</th>\n",
       "      <td>2009</td>\n",
       "      <td>19</td>\n",
       "      <td>Negar</td>\n",
       "      <td>Negar</td>\n",
       "      <td>1</td>\n",
       "    </tr>\n",
       "    <tr>\n",
       "      <th>881</th>\n",
       "      <td>9298</td>\n",
       "      <td>24</td>\n",
       "      <td>Negar</td>\n",
       "      <td>Negar</td>\n",
       "      <td>1</td>\n",
       "    </tr>\n",
       "    <tr>\n",
       "      <th>7541</th>\n",
       "      <td>8929</td>\n",
       "      <td>53</td>\n",
       "      <td>Negar</td>\n",
       "      <td>Negar</td>\n",
       "      <td>1</td>\n",
       "    </tr>\n",
       "    <tr>\n",
       "      <th>4151</th>\n",
       "      <td>10021</td>\n",
       "      <td>506</td>\n",
       "      <td>Negar</td>\n",
       "      <td>Negar</td>\n",
       "      <td>1</td>\n",
       "    </tr>\n",
       "    <tr>\n",
       "      <th>7965</th>\n",
       "      <td>5519</td>\n",
       "      <td>24</td>\n",
       "      <td>Conceder</td>\n",
       "      <td>Negar</td>\n",
       "      <td>0</td>\n",
       "    </tr>\n",
       "    <tr>\n",
       "      <th>8291</th>\n",
       "      <td>6860</td>\n",
       "      <td>36</td>\n",
       "      <td>Negar</td>\n",
       "      <td>Negar</td>\n",
       "      <td>1</td>\n",
       "    </tr>\n",
       "  </tbody>\n",
       "</table>\n",
       "</div>"
      ],
      "text/plain": [
       "      id_cliente  idade limite_adicional classificacao  acertos\n",
       "6909        2254     26         Conceder      Conceder        1\n",
       "4767        5764     42            Negar         Negar        1\n",
       "8560          83     43            Negar         Negar        1\n",
       "4883       10645     24         Conceder      Conceder        1\n",
       "4578        2009     19            Negar         Negar        1\n",
       "881         9298     24            Negar         Negar        1\n",
       "7541        8929     53            Negar         Negar        1\n",
       "4151       10021    506            Negar         Negar        1\n",
       "7965        5519     24         Conceder         Negar        0\n",
       "8291        6860     36            Negar         Negar        1"
      ]
     },
     "execution_count": 22,
     "metadata": {},
     "output_type": "execute_result"
    }
   ],
   "source": [
    "df_result['acertos'] = ( df_result.loc[:, ['id_cliente', 'limite_adicional', 'classificacao']]\n",
    "                        .apply(lambda x: 1 if x['limite_adicional'] == x['classificacao'] else 0, axis=1) )\n",
    "\n",
    "df_result.loc[:, ['id_cliente', 'idade', 'limite_adicional', 'classificacao', 'acertos']].sample(10)"
   ]
  },
  {
   "cell_type": "code",
   "execution_count": 26,
   "id": "a293b7ae",
   "metadata": {
    "hidden": true
   },
   "outputs": [
    {
     "name": "stdout",
     "output_type": "stream",
     "text": [
      "Acurácia: 0.85905\n"
     ]
    }
   ],
   "source": [
    "print(f\"Acurácia: {df_result['acertos'].sum() / df_result.shape[0]:.5f}\")"
   ]
  },
  {
   "cell_type": "code",
   "execution_count": null,
   "id": "185b4344",
   "metadata": {
    "hidden": true
   },
   "outputs": [],
   "source": []
  },
  {
   "cell_type": "markdown",
   "id": "bc5a354e",
   "metadata": {
    "hidden": true
   },
   "source": [
    "Uma maneira muito mais eficiente de fazermos a avaliação do módelo é utilizando o módulo `metrics` do pacote `sklearn`.\n",
    "\n",
    "```python\n",
    "from sklearn import metrics as mt\n",
    "```\n",
    "\n",
    "Para obtermos a matriz de confusão, fazemos uso da função `.confusion_matrix()`."
   ]
  },
  {
   "cell_type": "code",
   "execution_count": 27,
   "id": "395e4338",
   "metadata": {
    "hidden": true
   },
   "outputs": [
    {
     "data": {
      "text/plain": [
       "array([[ 369, 1136],\n",
       "       [ 203, 7792]])"
      ]
     },
     "execution_count": 27,
     "metadata": {},
     "output_type": "execute_result"
    }
   ],
   "source": [
    "# para calcularmos a matriz de confusão, precisamos passar como parâmetros os rótulos reais e os previstos \n",
    "mt.confusion_matrix(y_train, y_pred)"
   ]
  },
  {
   "cell_type": "markdown",
   "id": "618a6372",
   "metadata": {
    "hidden": true
   },
   "source": [
    "Já para calcularmos a acurácia do algoritmo usamos a função `.accuracy_score()`"
   ]
  },
  {
   "cell_type": "code",
   "execution_count": 28,
   "id": "2e258852",
   "metadata": {
    "hidden": true
   },
   "outputs": [
    {
     "data": {
      "text/plain": [
       "0.8590526315789474"
      ]
     },
     "execution_count": 28,
     "metadata": {},
     "output_type": "execute_result"
    }
   ],
   "source": [
    "mt.accuracy_score(y_train, y_pred)"
   ]
  },
  {
   "cell_type": "markdown",
   "id": "ab10a00e",
   "metadata": {
    "heading_collapsed": true
   },
   "source": [
    "### Precision e Recall"
   ]
  },
  {
   "cell_type": "markdown",
   "id": "1f8d7985",
   "metadata": {
    "hidden": true
   },
   "source": [
    "Para avaliarmos a precisão do nosso algoritmo usar a função `.precision_score()`. Nesse caso devemos passar um parâmetro extra (`pos_label`) para indicar qual é a classe positiva."
   ]
  },
  {
   "cell_type": "code",
   "execution_count": 32,
   "id": "a4dc9e54",
   "metadata": {
    "hidden": true
   },
   "outputs": [
    {
     "data": {
      "text/plain": [
       "0.8727598566308243"
      ]
     },
     "execution_count": 32,
     "metadata": {},
     "output_type": "execute_result"
    }
   ],
   "source": [
    "# estamos verificando qual a precisão da classe 'Negar'\n",
    "mt.precision_score(y_train, y_pred, pos_label='Negar')"
   ]
  },
  {
   "cell_type": "code",
   "execution_count": 33,
   "id": "2910090c",
   "metadata": {
    "hidden": true
   },
   "outputs": [
    {
     "data": {
      "text/plain": [
       "0.6451048951048951"
      ]
     },
     "execution_count": 33,
     "metadata": {},
     "output_type": "execute_result"
    }
   ],
   "source": [
    "# estamos verificando qual a precisão da classe 'Conceder'\n",
    "mt.precision_score(y_train, y_pred, pos_label='Conceder')"
   ]
  },
  {
   "cell_type": "markdown",
   "id": "be86504b",
   "metadata": {
    "hidden": true
   },
   "source": [
    "Para avaliarmos a precisão do nosso algoritmo usar a função `.recall_score()`. Também devemos passar o parâmetro `pos_label` para indicar qual é a classe positiva."
   ]
  },
  {
   "cell_type": "code",
   "execution_count": 34,
   "id": "054bb5ac",
   "metadata": {
    "hidden": true
   },
   "outputs": [
    {
     "data": {
      "text/plain": [
       "0.9746091307066916"
      ]
     },
     "execution_count": 34,
     "metadata": {},
     "output_type": "execute_result"
    }
   ],
   "source": [
    "# estamos verificando qual o Recall da classe 'Negar'\n",
    "mt.recall_score(y_train, y_pred, pos_label='Negar')"
   ]
  },
  {
   "cell_type": "code",
   "execution_count": 35,
   "id": "6f62da96",
   "metadata": {
    "hidden": true
   },
   "outputs": [
    {
     "data": {
      "text/plain": [
       "0.24518272425249169"
      ]
     },
     "execution_count": 35,
     "metadata": {},
     "output_type": "execute_result"
    }
   ],
   "source": [
    "# estamos verificando qual a Recall da classe 'Conceder'\n",
    "mt.recall_score(y_train, y_pred, pos_label='Conceder')"
   ]
  },
  {
   "cell_type": "code",
   "execution_count": null,
   "id": "4cf14744",
   "metadata": {
    "hidden": true
   },
   "outputs": [],
   "source": []
  }
 ],
 "metadata": {
  "kernelspec": {
   "display_name": "Python 3 (ipykernel)",
   "language": "python",
   "name": "python3"
  },
  "language_info": {
   "codemirror_mode": {
    "name": "ipython",
    "version": 3
   },
   "file_extension": ".py",
   "mimetype": "text/x-python",
   "name": "python",
   "nbconvert_exporter": "python",
   "pygments_lexer": "ipython3",
   "version": "3.10.6"
  }
 },
 "nbformat": 4,
 "nbformat_minor": 5
}
