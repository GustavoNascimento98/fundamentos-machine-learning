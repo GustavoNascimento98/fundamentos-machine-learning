{
 "cells": [
  {
   "cell_type": "markdown",
   "id": "9baff1c5",
   "metadata": {
    "heading_collapsed": true
   },
   "source": [
    "# 0.0 Imports"
   ]
  },
  {
   "cell_type": "code",
   "execution_count": 1,
   "id": "fdd5c3d3",
   "metadata": {
    "ExecuteTime": {
     "end_time": "2023-04-22T15:45:36.561543Z",
     "start_time": "2023-04-22T15:45:35.514097Z"
    },
    "hidden": true
   },
   "outputs": [],
   "source": [
    "import numpy as np\n",
    "import seaborn as sns\n",
    "import matplotlib as mpl\n",
    "import matplotlib.pyplot as plt\n",
    "\n",
    "from sklearn.datasets import fetch_openml"
   ]
  },
  {
   "cell_type": "markdown",
   "id": "e3811f66",
   "metadata": {
    "heading_collapsed": true
   },
   "source": [
    "# 1.0 Load Dataset"
   ]
  },
  {
   "cell_type": "markdown",
   "id": "bf0c2cc4",
   "metadata": {
    "hidden": true
   },
   "source": [
    "Usando a função `fetch_openml('mnist_784')` com o parâmetro 'mnist_784' conseguimos carregar um dataset que contém os pixels de caracteres númericos escritos a mão. Esse dataset contém dados referentes à 70 mil imagens, em cada uma dela possui dimensão 28x28 (784) pixels"
   ]
  },
  {
   "cell_type": "code",
   "execution_count": 2,
   "id": "8bd7805c",
   "metadata": {
    "ExecuteTime": {
     "end_time": "2023-04-22T15:45:43.487623Z",
     "start_time": "2023-04-22T15:45:40.597687Z"
    },
    "hidden": true
   },
   "outputs": [],
   "source": [
    "X, y = fetch_openml('mnist_784', version=1, return_X_y=True, parser='auto')\n",
    "\n",
    "y = np.array(y, dtype=int)"
   ]
  },
  {
   "cell_type": "code",
   "execution_count": 3,
   "id": "fcc62453",
   "metadata": {
    "ExecuteTime": {
     "end_time": "2023-04-22T15:45:44.271366Z",
     "start_time": "2023-04-22T15:45:44.259455Z"
    },
    "hidden": true
   },
   "outputs": [
    {
     "data": {
      "text/plain": [
       "(70000, 784)"
      ]
     },
     "execution_count": 3,
     "metadata": {},
     "output_type": "execute_result"
    }
   ],
   "source": [
    "X.shape"
   ]
  },
  {
   "cell_type": "code",
   "execution_count": 4,
   "id": "30e8b077",
   "metadata": {
    "ExecuteTime": {
     "end_time": "2023-04-22T15:45:44.938604Z",
     "start_time": "2023-04-22T15:45:44.905881Z"
    },
    "hidden": true
   },
   "outputs": [
    {
     "data": {
      "text/html": [
       "<div>\n",
       "<style scoped>\n",
       "    .dataframe tbody tr th:only-of-type {\n",
       "        vertical-align: middle;\n",
       "    }\n",
       "\n",
       "    .dataframe tbody tr th {\n",
       "        vertical-align: top;\n",
       "    }\n",
       "\n",
       "    .dataframe thead th {\n",
       "        text-align: right;\n",
       "    }\n",
       "</style>\n",
       "<table border=\"1\" class=\"dataframe\">\n",
       "  <thead>\n",
       "    <tr style=\"text-align: right;\">\n",
       "      <th></th>\n",
       "      <th>pixel1</th>\n",
       "      <th>pixel2</th>\n",
       "      <th>pixel3</th>\n",
       "      <th>pixel4</th>\n",
       "      <th>pixel5</th>\n",
       "      <th>pixel6</th>\n",
       "      <th>pixel7</th>\n",
       "      <th>pixel8</th>\n",
       "      <th>pixel9</th>\n",
       "      <th>pixel10</th>\n",
       "      <th>...</th>\n",
       "      <th>pixel775</th>\n",
       "      <th>pixel776</th>\n",
       "      <th>pixel777</th>\n",
       "      <th>pixel778</th>\n",
       "      <th>pixel779</th>\n",
       "      <th>pixel780</th>\n",
       "      <th>pixel781</th>\n",
       "      <th>pixel782</th>\n",
       "      <th>pixel783</th>\n",
       "      <th>pixel784</th>\n",
       "    </tr>\n",
       "  </thead>\n",
       "  <tbody>\n",
       "    <tr>\n",
       "      <th>0</th>\n",
       "      <td>0</td>\n",
       "      <td>0</td>\n",
       "      <td>0</td>\n",
       "      <td>0</td>\n",
       "      <td>0</td>\n",
       "      <td>0</td>\n",
       "      <td>0</td>\n",
       "      <td>0</td>\n",
       "      <td>0</td>\n",
       "      <td>0</td>\n",
       "      <td>...</td>\n",
       "      <td>0</td>\n",
       "      <td>0</td>\n",
       "      <td>0</td>\n",
       "      <td>0</td>\n",
       "      <td>0</td>\n",
       "      <td>0</td>\n",
       "      <td>0</td>\n",
       "      <td>0</td>\n",
       "      <td>0</td>\n",
       "      <td>0</td>\n",
       "    </tr>\n",
       "    <tr>\n",
       "      <th>1</th>\n",
       "      <td>0</td>\n",
       "      <td>0</td>\n",
       "      <td>0</td>\n",
       "      <td>0</td>\n",
       "      <td>0</td>\n",
       "      <td>0</td>\n",
       "      <td>0</td>\n",
       "      <td>0</td>\n",
       "      <td>0</td>\n",
       "      <td>0</td>\n",
       "      <td>...</td>\n",
       "      <td>0</td>\n",
       "      <td>0</td>\n",
       "      <td>0</td>\n",
       "      <td>0</td>\n",
       "      <td>0</td>\n",
       "      <td>0</td>\n",
       "      <td>0</td>\n",
       "      <td>0</td>\n",
       "      <td>0</td>\n",
       "      <td>0</td>\n",
       "    </tr>\n",
       "    <tr>\n",
       "      <th>2</th>\n",
       "      <td>0</td>\n",
       "      <td>0</td>\n",
       "      <td>0</td>\n",
       "      <td>0</td>\n",
       "      <td>0</td>\n",
       "      <td>0</td>\n",
       "      <td>0</td>\n",
       "      <td>0</td>\n",
       "      <td>0</td>\n",
       "      <td>0</td>\n",
       "      <td>...</td>\n",
       "      <td>0</td>\n",
       "      <td>0</td>\n",
       "      <td>0</td>\n",
       "      <td>0</td>\n",
       "      <td>0</td>\n",
       "      <td>0</td>\n",
       "      <td>0</td>\n",
       "      <td>0</td>\n",
       "      <td>0</td>\n",
       "      <td>0</td>\n",
       "    </tr>\n",
       "    <tr>\n",
       "      <th>3</th>\n",
       "      <td>0</td>\n",
       "      <td>0</td>\n",
       "      <td>0</td>\n",
       "      <td>0</td>\n",
       "      <td>0</td>\n",
       "      <td>0</td>\n",
       "      <td>0</td>\n",
       "      <td>0</td>\n",
       "      <td>0</td>\n",
       "      <td>0</td>\n",
       "      <td>...</td>\n",
       "      <td>0</td>\n",
       "      <td>0</td>\n",
       "      <td>0</td>\n",
       "      <td>0</td>\n",
       "      <td>0</td>\n",
       "      <td>0</td>\n",
       "      <td>0</td>\n",
       "      <td>0</td>\n",
       "      <td>0</td>\n",
       "      <td>0</td>\n",
       "    </tr>\n",
       "    <tr>\n",
       "      <th>4</th>\n",
       "      <td>0</td>\n",
       "      <td>0</td>\n",
       "      <td>0</td>\n",
       "      <td>0</td>\n",
       "      <td>0</td>\n",
       "      <td>0</td>\n",
       "      <td>0</td>\n",
       "      <td>0</td>\n",
       "      <td>0</td>\n",
       "      <td>0</td>\n",
       "      <td>...</td>\n",
       "      <td>0</td>\n",
       "      <td>0</td>\n",
       "      <td>0</td>\n",
       "      <td>0</td>\n",
       "      <td>0</td>\n",
       "      <td>0</td>\n",
       "      <td>0</td>\n",
       "      <td>0</td>\n",
       "      <td>0</td>\n",
       "      <td>0</td>\n",
       "    </tr>\n",
       "    <tr>\n",
       "      <th>...</th>\n",
       "      <td>...</td>\n",
       "      <td>...</td>\n",
       "      <td>...</td>\n",
       "      <td>...</td>\n",
       "      <td>...</td>\n",
       "      <td>...</td>\n",
       "      <td>...</td>\n",
       "      <td>...</td>\n",
       "      <td>...</td>\n",
       "      <td>...</td>\n",
       "      <td>...</td>\n",
       "      <td>...</td>\n",
       "      <td>...</td>\n",
       "      <td>...</td>\n",
       "      <td>...</td>\n",
       "      <td>...</td>\n",
       "      <td>...</td>\n",
       "      <td>...</td>\n",
       "      <td>...</td>\n",
       "      <td>...</td>\n",
       "      <td>...</td>\n",
       "    </tr>\n",
       "    <tr>\n",
       "      <th>69995</th>\n",
       "      <td>0</td>\n",
       "      <td>0</td>\n",
       "      <td>0</td>\n",
       "      <td>0</td>\n",
       "      <td>0</td>\n",
       "      <td>0</td>\n",
       "      <td>0</td>\n",
       "      <td>0</td>\n",
       "      <td>0</td>\n",
       "      <td>0</td>\n",
       "      <td>...</td>\n",
       "      <td>0</td>\n",
       "      <td>0</td>\n",
       "      <td>0</td>\n",
       "      <td>0</td>\n",
       "      <td>0</td>\n",
       "      <td>0</td>\n",
       "      <td>0</td>\n",
       "      <td>0</td>\n",
       "      <td>0</td>\n",
       "      <td>0</td>\n",
       "    </tr>\n",
       "    <tr>\n",
       "      <th>69996</th>\n",
       "      <td>0</td>\n",
       "      <td>0</td>\n",
       "      <td>0</td>\n",
       "      <td>0</td>\n",
       "      <td>0</td>\n",
       "      <td>0</td>\n",
       "      <td>0</td>\n",
       "      <td>0</td>\n",
       "      <td>0</td>\n",
       "      <td>0</td>\n",
       "      <td>...</td>\n",
       "      <td>0</td>\n",
       "      <td>0</td>\n",
       "      <td>0</td>\n",
       "      <td>0</td>\n",
       "      <td>0</td>\n",
       "      <td>0</td>\n",
       "      <td>0</td>\n",
       "      <td>0</td>\n",
       "      <td>0</td>\n",
       "      <td>0</td>\n",
       "    </tr>\n",
       "    <tr>\n",
       "      <th>69997</th>\n",
       "      <td>0</td>\n",
       "      <td>0</td>\n",
       "      <td>0</td>\n",
       "      <td>0</td>\n",
       "      <td>0</td>\n",
       "      <td>0</td>\n",
       "      <td>0</td>\n",
       "      <td>0</td>\n",
       "      <td>0</td>\n",
       "      <td>0</td>\n",
       "      <td>...</td>\n",
       "      <td>0</td>\n",
       "      <td>0</td>\n",
       "      <td>0</td>\n",
       "      <td>0</td>\n",
       "      <td>0</td>\n",
       "      <td>0</td>\n",
       "      <td>0</td>\n",
       "      <td>0</td>\n",
       "      <td>0</td>\n",
       "      <td>0</td>\n",
       "    </tr>\n",
       "    <tr>\n",
       "      <th>69998</th>\n",
       "      <td>0</td>\n",
       "      <td>0</td>\n",
       "      <td>0</td>\n",
       "      <td>0</td>\n",
       "      <td>0</td>\n",
       "      <td>0</td>\n",
       "      <td>0</td>\n",
       "      <td>0</td>\n",
       "      <td>0</td>\n",
       "      <td>0</td>\n",
       "      <td>...</td>\n",
       "      <td>0</td>\n",
       "      <td>0</td>\n",
       "      <td>0</td>\n",
       "      <td>0</td>\n",
       "      <td>0</td>\n",
       "      <td>0</td>\n",
       "      <td>0</td>\n",
       "      <td>0</td>\n",
       "      <td>0</td>\n",
       "      <td>0</td>\n",
       "    </tr>\n",
       "    <tr>\n",
       "      <th>69999</th>\n",
       "      <td>0</td>\n",
       "      <td>0</td>\n",
       "      <td>0</td>\n",
       "      <td>0</td>\n",
       "      <td>0</td>\n",
       "      <td>0</td>\n",
       "      <td>0</td>\n",
       "      <td>0</td>\n",
       "      <td>0</td>\n",
       "      <td>0</td>\n",
       "      <td>...</td>\n",
       "      <td>0</td>\n",
       "      <td>0</td>\n",
       "      <td>0</td>\n",
       "      <td>0</td>\n",
       "      <td>0</td>\n",
       "      <td>0</td>\n",
       "      <td>0</td>\n",
       "      <td>0</td>\n",
       "      <td>0</td>\n",
       "      <td>0</td>\n",
       "    </tr>\n",
       "  </tbody>\n",
       "</table>\n",
       "<p>70000 rows × 784 columns</p>\n",
       "</div>"
      ],
      "text/plain": [
       "       pixel1  pixel2  pixel3  pixel4  pixel5  pixel6  pixel7  pixel8  pixel9  \\\n",
       "0           0       0       0       0       0       0       0       0       0   \n",
       "1           0       0       0       0       0       0       0       0       0   \n",
       "2           0       0       0       0       0       0       0       0       0   \n",
       "3           0       0       0       0       0       0       0       0       0   \n",
       "4           0       0       0       0       0       0       0       0       0   \n",
       "...       ...     ...     ...     ...     ...     ...     ...     ...     ...   \n",
       "69995       0       0       0       0       0       0       0       0       0   \n",
       "69996       0       0       0       0       0       0       0       0       0   \n",
       "69997       0       0       0       0       0       0       0       0       0   \n",
       "69998       0       0       0       0       0       0       0       0       0   \n",
       "69999       0       0       0       0       0       0       0       0       0   \n",
       "\n",
       "       pixel10  ...  pixel775  pixel776  pixel777  pixel778  pixel779  \\\n",
       "0            0  ...         0         0         0         0         0   \n",
       "1            0  ...         0         0         0         0         0   \n",
       "2            0  ...         0         0         0         0         0   \n",
       "3            0  ...         0         0         0         0         0   \n",
       "4            0  ...         0         0         0         0         0   \n",
       "...        ...  ...       ...       ...       ...       ...       ...   \n",
       "69995        0  ...         0         0         0         0         0   \n",
       "69996        0  ...         0         0         0         0         0   \n",
       "69997        0  ...         0         0         0         0         0   \n",
       "69998        0  ...         0         0         0         0         0   \n",
       "69999        0  ...         0         0         0         0         0   \n",
       "\n",
       "       pixel780  pixel781  pixel782  pixel783  pixel784  \n",
       "0             0         0         0         0         0  \n",
       "1             0         0         0         0         0  \n",
       "2             0         0         0         0         0  \n",
       "3             0         0         0         0         0  \n",
       "4             0         0         0         0         0  \n",
       "...         ...       ...       ...       ...       ...  \n",
       "69995         0         0         0         0         0  \n",
       "69996         0         0         0         0         0  \n",
       "69997         0         0         0         0         0  \n",
       "69998         0         0         0         0         0  \n",
       "69999         0         0         0         0         0  \n",
       "\n",
       "[70000 rows x 784 columns]"
      ]
     },
     "execution_count": 4,
     "metadata": {},
     "output_type": "execute_result"
    }
   ],
   "source": [
    "# dataset em que cada linha representa os pixels de uma imagem, sendo que cada píxel varia entre 0 e 255.\n",
    "X"
   ]
  },
  {
   "cell_type": "code",
   "execution_count": 5,
   "id": "e06e426a",
   "metadata": {
    "ExecuteTime": {
     "end_time": "2023-04-22T15:45:48.236464Z",
     "start_time": "2023-04-22T15:45:48.225271Z"
    },
    "hidden": true,
    "hide_input": false
   },
   "outputs": [
    {
     "data": {
      "text/plain": [
       "array([[  0,   0,   0,   0,   0,   0,   0,   0,   0,   0,   0,   0,   0,\n",
       "          0,   0,   0,   0,   0,   0,   0,   0,   0,   0,   0,   0,   0,\n",
       "          0,   0],\n",
       "       [  0,   0,   0,   0,   0,   0,   0,   0,   0,   0,   0,   0,   0,\n",
       "          0,   0,   0,   0,   0,   0,   0,   0,   0,   0,   0,   0,   0,\n",
       "          0,   0],\n",
       "       [  0,   0,   0,   0,   0,   0,   0,  18, 219, 253, 253, 253, 253,\n",
       "        253, 198, 182, 247, 241,   0,   0,   0,   0,   0,   0,   0,   0,\n",
       "          0,   0],\n",
       "       [  0,   0,   0,   0,   0,   0,   0,   0,   0,   0,   0,  11, 190,\n",
       "        253,  70,   0,   0,   0,   0,   0,   0,   0,   0,   0,   0,   0,\n",
       "          0,   0],\n",
       "       [  0,   0,   0,   0,   0,   0,   0,   0,   0,   0,   0,   0,   0,\n",
       "          0,   0,  16,  93, 252, 253, 187,   0,   0,   0,   0,   0,   0,\n",
       "          0,   0],\n",
       "       [  0,   0,   0,   0,   0,   0,   0,   0,   0,   0,  24, 114, 221,\n",
       "        253, 253, 253, 253, 201,  78,   0,   0,   0,   0,   0,   0,   0,\n",
       "          0,   0],\n",
       "       [  0,   0,   0,   0, 136, 253, 253, 253, 212, 135, 132,  16,   0,\n",
       "          0,   0,   0,   0,   0,   0,   0,   0,   0,   0,   0,   0,   0,\n",
       "          0,   0]])"
      ]
     },
     "execution_count": 5,
     "metadata": {},
     "output_type": "execute_result"
    }
   ],
   "source": [
    "# pixels da primeira imagem\n",
    "X.iloc[0].values.reshape(28,28)[::4]"
   ]
  },
  {
   "cell_type": "code",
   "execution_count": 6,
   "id": "cdc4ce71",
   "metadata": {
    "ExecuteTime": {
     "end_time": "2023-04-22T15:45:51.043935Z",
     "start_time": "2023-04-22T15:45:51.034640Z"
    },
    "hidden": true
   },
   "outputs": [
    {
     "data": {
      "text/plain": [
       "array([5, 0, 4, 1, 9, 2, 1, 3, 1, 4])"
      ]
     },
     "execution_count": 6,
     "metadata": {},
     "output_type": "execute_result"
    }
   ],
   "source": [
    "# targets das 10 primeiras imagens, como podemos ver os pixels das 10 primeiras linhas do dataframe 'X' representam\n",
    "# os algarismos 5, 0, 4, 1, 9, 2, 1, 3, 1, 4\n",
    "y[:10]"
   ]
  },
  {
   "cell_type": "markdown",
   "id": "582c07db",
   "metadata": {
    "hidden": true
   },
   "source": [
    "Vamos plotar as imagens referentes aos 10 primeiros registros de `X`"
   ]
  },
  {
   "cell_type": "code",
   "execution_count": 7,
   "id": "7db1ff24",
   "metadata": {
    "ExecuteTime": {
     "end_time": "2023-04-22T15:45:52.163163Z",
     "start_time": "2023-04-22T15:45:51.786594Z"
    },
    "hidden": true
   },
   "outputs": [
    {
     "data": {
      "image/png": "[encoded data removed]",
      "text/plain": [
       "<Figure size 2000x200 with 10 Axes>"
      ]
     },
     "metadata": {},
     "output_type": "display_data"
    }
   ],
   "source": [
    "N = 10\n",
    "\n",
    "fig, axes = plt.subplots(1, N, figsize=(2*N, 2))\n",
    "\n",
    "for ax, image, label in zip(axes, X.values, y):\n",
    "    ax.set_title(f'label: {label}')\n",
    "    ax.axis('off')\n",
    "    ax.imshow(image.reshape(28,28), cmap='gray')"
   ]
  },
  {
   "cell_type": "markdown",
   "id": "453c9415",
   "metadata": {
    "heading_collapsed": true
   },
   "source": [
    "# 2.0 Train Test Split"
   ]
  },
  {
   "cell_type": "markdown",
   "id": "94dff351",
   "metadata": {
    "hidden": true
   },
   "source": [
    "Usando apenas a biblioteca `numpy` vamos separar o conjunto de dados `X` em treino e teste, sendo que 70% dos dados serão designados para treino e em seguida vamos dividir o conjunto restante em teste e validação. Para fazermos isso, definimos um conjunto auxiliar chamado `X_rest`.\n",
    "\n",
    "* `X`\n",
    "    * `X_rest` - 70%\n",
    "    * `X_test` - 30%\n",
    "    \n",
    "    \n",
    "* `X_rest`\n",
    "    * `X_train` - 70%\n",
    "    * `X_valid` - 30%"
   ]
  },
  {
   "cell_type": "markdown",
   "id": "1972b878",
   "metadata": {
    "hidden": true
   },
   "source": [
    "O comando `np.zeros((0, 784))` cria uma array com 0 linhas e 784 colunas, basicamente estamos criando um array vazia, afinal ela tem 0 linhas, mas que virtualmente possui 784 colunas. Isso foi feito de modo que ao utilizarmos comando `np.r_[]` pela primeira vez dentro do laço for, ele  apenas adicionará as linhas do dataframe `X` equivalente ao label `y = 0`, uma vez que estaremos empilhando esse subconjunto debaixo de um conjunto vázio. Para os demais valores de `i` no loop, o comando `np.r_[]` simplesmente adicionará o subconjunto referente a classe `i` em baixo da array `X_test`, aumentando assim o número de linhas."
   ]
  },
  {
   "cell_type": "code",
   "execution_count": 8,
   "id": "0fa469f8",
   "metadata": {
    "ExecuteTime": {
     "end_time": "2023-04-22T15:46:02.462908Z",
     "start_time": "2023-04-22T15:46:00.384652Z"
    },
    "hidden": true
   },
   "outputs": [],
   "source": [
    "X_test = np.zeros((0, 784))\n",
    "y_test = np.array([])\n",
    "\n",
    "X_rest = np.zeros((0, 784))\n",
    "y_rest = np.array([])\n",
    "\n",
    "\n",
    "for i in range(10):\n",
    "    idx = np.where(y == i)[0]   # retorna os indices das linhas que representam o algarismo 'i'\n",
    "    \n",
    "    X_test_i, X_rest_i = np.array_split(X.values[idx], [int(X.values[idx].shape[0] * 0.3)])\n",
    "    X_test = np.r_[X_test, X_test_i]\n",
    "    X_rest = np.r_[X_rest, X_rest_i]\n",
    "    \n",
    "    y_test_i, y_rest_i = np.array_split(y[idx], [int(y[idx].shape[0] * 0.3)])\n",
    "    y_test = np.r_[y_test, y_test_i]\n",
    "    y_rest = np.r_[y_rest, y_rest_i]\n",
    "    \n",
    "    \n",
    "\n",
    "X_train, X_valid = np.zeros((0, 784)), np.zeros((0, 784))\n",
    "y_train, y_valid = np.zeros([]), np.zeros([])\n",
    "\n",
    "\n",
    "\n",
    "for i in range(10):\n",
    "    idx = np.where(y_rest == i)[0]\n",
    "    \n",
    "    X_valid_i, X_train_i = np.array_split(X_rest[idx], [int(X_rest[idx].shape[0] * 0.3)])\n",
    "    X_valid = np.r_[X_valid, X_valid_i]\n",
    "    X_train = np.r_[X_train, X_train_i]\n",
    "    \n",
    "    \n",
    "    y_valid_i, y_train_i = np.array_split(y_rest[idx],[int(y_rest[idx].shape[0] * 0.3)])\n",
    "    y_valid = np.r_[y_valid, y_valid_i]\n",
    "    y_train = np.r_[y_train, y_train_i]\n"
   ]
  },
  {
   "cell_type": "markdown",
   "id": "d389e904",
   "metadata": {
    "heading_collapsed": true,
    "hidden": true
   },
   "source": [
    "#### Destrinchando o código acima"
   ]
  },
  {
   "cell_type": "markdown",
   "id": "e7df0008",
   "metadata": {
    "hidden": true
   },
   "source": [
    "O comando `np.where()` recebe uma expressão lógica aplicada a um vetor e retorna uma tupla contendo os indices do vetor em que a expressão é verdadeira."
   ]
  },
  {
   "cell_type": "code",
   "execution_count": 9,
   "id": "af1fe88e",
   "metadata": {
    "ExecuteTime": {
     "end_time": "2023-04-22T11:49:20.164217Z",
     "start_time": "2023-04-22T11:49:20.158405Z"
    },
    "hidden": true
   },
   "outputs": [
    {
     "data": {
      "text/plain": [
       "(array([    1,    21,    34, ..., 69964, 69983, 69993]),)"
      ]
     },
     "execution_count": 9,
     "metadata": {},
     "output_type": "execute_result"
    }
   ],
   "source": [
    "# ao usarmos 'y == 0' como condição, recebemos como retorno as posições do vetor y em que a condição é verdadeira,\n",
    "# se voltarmos na imagem dos caracteres vemos que a segunda imagem, equivalente ao indice 1, de fato representa\n",
    "# o algarismo 0\n",
    "idx = np.where(y == 0)\n",
    "idx"
   ]
  },
  {
   "cell_type": "code",
   "execution_count": 10,
   "id": "3b51271f",
   "metadata": {
    "ExecuteTime": {
     "end_time": "2023-04-22T11:49:49.852201Z",
     "start_time": "2023-04-22T11:49:49.745599Z"
    },
    "hidden": true
   },
   "outputs": [
    {
     "data": {
      "image/png": "[encoded data removed]",
      "text/plain": [
       "<Figure size 1000x200 with 5 Axes>"
      ]
     },
     "metadata": {},
     "output_type": "display_data"
    }
   ],
   "source": [
    "# plotando as 5 primeiras posições em idx, vemos que de fato elas representam o algarismo '0'\n",
    "fig, axes = plt.subplots(1, 5, figsize=(10, 2))\n",
    "\n",
    "for ax, index in zip(axes, idx[0][:5]):\n",
    "    ax.axis('off')\n",
    "    ax.imshow( X.iloc[index].values.reshape(28, 28), cmap='gray' )"
   ]
  },
  {
   "cell_type": "markdown",
   "id": "98a6768d",
   "metadata": {
    "hidden": true
   },
   "source": [
    "O comando abaixo `np.array_split()` retorna uma lista com o conjunto de dados divido, sendo que o primeiro elemento da lista possuirá o número de linhas especificado dentro de uma lista no segundo argumento. No código, estamos pegando as 30% primeiras linhas do conjunto `X` equivalente ao algorismo `i` (no caso abaixo i=0) e guardarmos o seu valor na varíavel `X_test_i`. "
   ]
  },
  {
   "cell_type": "code",
   "execution_count": 11,
   "id": "56ea1b33",
   "metadata": {
    "ExecuteTime": {
     "end_time": "2023-04-22T11:50:24.451245Z",
     "start_time": "2023-04-22T11:50:24.340869Z"
    },
    "hidden": true
   },
   "outputs": [
    {
     "data": {
      "text/plain": [
       "[array([[0, 0, 0, ..., 0, 0, 0],\n",
       "        [0, 0, 0, ..., 0, 0, 0],\n",
       "        [0, 0, 0, ..., 0, 0, 0],\n",
       "        ...,\n",
       "        [0, 0, 0, ..., 0, 0, 0],\n",
       "        [0, 0, 0, ..., 0, 0, 0],\n",
       "        [0, 0, 0, ..., 0, 0, 0]]),\n",
       " array([[0, 0, 0, ..., 0, 0, 0],\n",
       "        [0, 0, 0, ..., 0, 0, 0],\n",
       "        [0, 0, 0, ..., 0, 0, 0],\n",
       "        ...,\n",
       "        [0, 0, 0, ..., 0, 0, 0],\n",
       "        [0, 0, 0, ..., 0, 0, 0],\n",
       "        [0, 0, 0, ..., 0, 0, 0]])]"
      ]
     },
     "execution_count": 11,
     "metadata": {},
     "output_type": "execute_result"
    }
   ],
   "source": [
    "idx = np.where(y == 0)[0]\n",
    "\n",
    "np.array_split(X.values[idx], [int(X.values[idx].shape[0] * 0.3)])"
   ]
  },
  {
   "cell_type": "code",
   "execution_count": 12,
   "id": "b25eaa9f",
   "metadata": {
    "ExecuteTime": {
     "end_time": "2023-04-22T11:50:31.631342Z",
     "start_time": "2023-04-22T11:50:31.579613Z"
    },
    "hidden": true
   },
   "outputs": [
    {
     "data": {
      "text/plain": [
       "2070"
      ]
     },
     "execution_count": 12,
     "metadata": {},
     "output_type": "execute_result"
    }
   ],
   "source": [
    "# as 30% primeiras linhas equivalente aos algarismo equivalem a 2070 dados/imagens\n",
    "int(X.values[idx].shape[0] * 0.3)"
   ]
  },
  {
   "cell_type": "markdown",
   "id": "21e08fea",
   "metadata": {
    "hidden": true
   },
   "source": [
    "Quando estamos trabalhando com arrays de duas dimensões, o comando `np.r_[]` empilha as arrays passadas uma em cima da outra."
   ]
  },
  {
   "cell_type": "code",
   "execution_count": 13,
   "id": "2db80204",
   "metadata": {
    "ExecuteTime": {
     "end_time": "2023-04-22T11:50:38.964940Z",
     "start_time": "2023-04-22T11:50:38.961096Z"
    },
    "hidden": true
   },
   "outputs": [
    {
     "data": {
      "text/plain": [
       "array([1, 2, 3, 4, 5, 6, 7, 8, 9])"
      ]
     },
     "execution_count": 13,
     "metadata": {},
     "output_type": "execute_result"
    }
   ],
   "source": [
    "np.r_[ [1, 2, 3], [4, 5, 6], [7, 8, 9] ]"
   ]
  },
  {
   "cell_type": "code",
   "execution_count": 14,
   "id": "888e2ba8",
   "metadata": {
    "ExecuteTime": {
     "end_time": "2023-04-22T11:50:41.326946Z",
     "start_time": "2023-04-22T11:50:41.318328Z"
    },
    "hidden": true
   },
   "outputs": [
    {
     "data": {
      "text/plain": [
       "array([[1, 2, 3],\n",
       "       [1, 2, 3],\n",
       "       [4, 5, 6],\n",
       "       [4, 5, 6],\n",
       "       [7, 8, 9],\n",
       "       [7, 8, 9]])"
      ]
     },
     "execution_count": 14,
     "metadata": {},
     "output_type": "execute_result"
    }
   ],
   "source": [
    "np.r_[ [[1, 2, 3], [1, 2, 3]], [[4, 5, 6], [4, 5, 6]], [[7, 8, 9], [7, 8, 9]] ]"
   ]
  },
  {
   "cell_type": "code",
   "execution_count": 15,
   "id": "f73b837a",
   "metadata": {
    "ExecuteTime": {
     "end_time": "2023-04-22T11:50:54.451980Z",
     "start_time": "2023-04-22T11:50:54.446065Z"
    },
    "hidden": true
   },
   "outputs": [
    {
     "data": {
      "text/plain": [
       "array([[0., 0., 0., 0., 0., 0., 0., 0., 0., 0.],\n",
       "       [0., 0., 0., 0., 0., 0., 0., 0., 0., 0.],\n",
       "       [1., 1., 1., 1., 1., 1., 1., 1., 1., 1.],\n",
       "       [1., 1., 1., 1., 1., 1., 1., 1., 1., 1.]])"
      ]
     },
     "execution_count": 15,
     "metadata": {},
     "output_type": "execute_result"
    }
   ],
   "source": [
    "np.r_[ np.zeros((2, 10)), np.ones((2, 10)) ]"
   ]
  },
  {
   "cell_type": "markdown",
   "id": "6582ab69",
   "metadata": {
    "hidden": true
   },
   "source": [
    "#### Continuação"
   ]
  },
  {
   "cell_type": "markdown",
   "id": "fed5a8f5",
   "metadata": {
    "hidden": true
   },
   "source": [
    "Esse é um problema multiclasse uma vez que no conjunto de dados possuímos 10 algarismo diferentes (10 labels). Vamos simplificar e tornar esse problema em uma classificação binária, para isso vamos realizar a classificação apenas nos algarismos `1` e `7`."
   ]
  },
  {
   "cell_type": "code",
   "execution_count": 9,
   "id": "078a8bcf",
   "metadata": {
    "ExecuteTime": {
     "end_time": "2023-04-22T15:46:05.654835Z",
     "start_time": "2023-04-22T15:46:05.619595Z"
    },
    "hidden": true
   },
   "outputs": [],
   "source": [
    "# conjunto de treinamento\n",
    "X_train_17 = np.concatenate( ( X_train[np.where(y_train == 1)], X_train[np.where(y_train == 7)] ) )\n",
    "y_train_17 = np.concatenate( ( y_train[np.where(y_train == 1)], y_train[np.where(y_train == 7)] ) )\n",
    "\n",
    "y_train_17 = np.where( y_train_17 == 1, 0, 1 )  # atribui a classe 0 ao algarismo '1' e classe 1 ao '7'\n",
    "\n",
    "\n",
    "# conjunto de teste\n",
    "X_test_17 = np.concatenate( ( X_test[np.where(y_test == 1)], X_test[np.where(y_test == 7)] ) )\n",
    "y_test_17 = np.concatenate( ( y_test[np.where(y_test == 1)], y_test[np.where(y_test == 7)] ) )\n",
    "\n",
    "y_test_17 = np.where( y_test_17 == 1, 0, 1 )  # atribui a classe 0 ao algarismo '1' e classe 1 ao '7'\n",
    "\n",
    "\n",
    "# conjunto de validação\n",
    "X_valid_17 = np.concatenate( ( X_valid[np.where(y_valid == 1)], X_valid[np.where(y_valid == 7)] ) )\n",
    "y_valid_17 = np.concatenate( ( y_valid[np.where(y_valid == 1)], y_valid[np.where(y_valid == 7)] ) )\n",
    "\n",
    "y_valid_17 = np.where( y_valid_17 == 1, 0, 1 )  # atribui a classe 0 ao algarismo '1' e classe 1 ao '7'"
   ]
  },
  {
   "cell_type": "markdown",
   "id": "e0691561",
   "metadata": {
    "hidden": true
   },
   "source": [
    "* Classe 0 -> algarismo `1`\n",
    "* Classe 1 -> algarismo `7`"
   ]
  },
  {
   "cell_type": "markdown",
   "id": "165c44dc",
   "metadata": {},
   "source": [
    "# 3.0 Training"
   ]
  },
  {
   "cell_type": "markdown",
   "id": "5b0d2695",
   "metadata": {},
   "source": [
    "$J(\\vec{\\theta}) = -\\frac{1}{m} \\sum_{j=1}^m \\;\\left[y^{(j)}\\;log(\\;f_{\\vec{\\theta}}(x^{(j)})\\;)\\;+\\;(1-y^{(j)})\\;log(\\;1-f_{\\vec{\\theta}}(x^{(j)})\\;)\\right]$"
   ]
  },
  {
   "cell_type": "markdown",
   "id": "4f76f9f7",
   "metadata": {},
   "source": [
    "$J(\\vec{\\theta}) = -\\frac{1}{m} \\sum_{j=1}^m \\;\\left[y^{(j)}\\;log(\\;\\hat{y}^{(j)}\\;)\\;+\\;(1-y^{(j)})\\;log(\\;1-\\hat{y}^{(j)}\\;)\\right]$"
   ]
  },
  {
   "cell_type": "code",
   "execution_count": 22,
   "id": "21f4a228",
   "metadata": {
    "ExecuteTime": {
     "end_time": "2023-04-22T15:54:29.988269Z",
     "start_time": "2023-04-22T15:54:29.984918Z"
    }
   },
   "outputs": [],
   "source": [
    "def cross_entropy_loss(y, y_hat):\n",
    "    return ( -y * np.log(y_hat) - (1 - y) * np.log(1 - y_hat) ).mean()\n",
    "\n",
    "\n",
    "def sigmoid(x):\n",
    "    return ( 1. / (1. + np.exp(-x)) )"
   ]
  },
  {
   "cell_type": "markdown",
   "id": "226f9e9e",
   "metadata": {},
   "source": [
    "$\\vec{\\theta}_{k+1} = \\vec{\\theta}_{k} - \\alpha \\nabla J(\\vec{\\theta}_{k})$"
   ]
  },
  {
   "cell_type": "markdown",
   "id": "7a058ec2",
   "metadata": {},
   "source": [
    "$\\nabla J(\\vec{\\theta}) = X^{T} \\left[ f_{\\vec{\\theta}}\\left( \\vec{\\theta}^{T} X \\right) - y \\right]$"
   ]
  },
  {
   "cell_type": "markdown",
   "id": "c0266d8e",
   "metadata": {},
   "source": [
    "$\\nabla J(\\vec{\\theta}) = X^{T} \\left[ \\hat{y} - y \\right]$"
   ]
  },
  {
   "cell_type": "code",
   "execution_count": 108,
   "id": "83f22c0c",
   "metadata": {
    "ExecuteTime": {
     "end_time": "2023-04-22T16:34:16.623312Z",
     "start_time": "2023-04-22T16:34:15.900953Z"
    }
   },
   "outputs": [
    {
     "name": "stderr",
     "output_type": "stream",
     "text": [
      "/tmp/ipykernel_16443/1628842634.py:6: RuntimeWarning: overflow encountered in exp\n",
      "  return ( 1. / (1. + np.exp(-x)) )\n"
     ]
    },
    {
     "name": "stdout",
     "output_type": "stream",
     "text": [
      "train loss: 0.27681 valid loss: 0.31414\n",
      "train loss: 0.20535 valid loss: 0.25384\n",
      "train loss: 0.18247 valid loss: 0.19753\n",
      "train loss: 0.14415 valid loss: 0.15616\n",
      "train loss: 0.14064 valid loss: 0.12120\n",
      "train loss: 0.12743 valid loss: 0.10178\n",
      "train loss: 0.10741 valid loss: 0.09539\n",
      "train loss: 0.09341 valid loss: 0.08333\n",
      "train loss: 0.08879 valid loss: 0.08290\n",
      "train loss: 0.08260 valid loss: 0.07072\n"
     ]
    }
   ],
   "source": [
    "lr = 0.01       # learning rate\n",
    "n_iter = 100    # number of iterations\n",
    "k = 10          # intervals to check loss and weight visualization\n",
    "\n",
    "trunc_1 = 0.000000001\n",
    "trunc_2 = 0.999999999\n",
    "\n",
    "# define weights of size (n,) where n = # total of features in this dataset\n",
    "w = np.zeros(X_train_17.shape[1])\n",
    "\n",
    "# store weights in this list after the i-th interval\n",
    "w_k = []\n",
    "\n",
    "# store training and validation losses\n",
    "train_losses = []\n",
    "valid_losses = []\n",
    "\n",
    "\n",
    "# loop through n_iter iterations\n",
    "for i in range(n_iter):\n",
    "    \n",
    "    # training\n",
    "    z_train = X_train_17 @ w\n",
    "    z_train = np.clip(z_train, -1000, 1000)\n",
    "    y_train_hat = sigmoid(z_train)\n",
    "    y_train_hat = np.clip(y_train_hat, trunc_1, trunc_2)\n",
    "    \n",
    "    d_w = np.dot( X_train_17.T, (y_train_hat - y_train_17) ) / y_train_17.shape[0]\n",
    "    \n",
    "    w = w - lr * d_w\n",
    "    \n",
    "    \n",
    "    train_loss = cross_entropy_loss(y_train_17, y_train_hat)\n",
    "    train_losses.append(train_loss)\n",
    "    \n",
    "    \n",
    "    # validation\n",
    "    z_valid = X_valid_17 @ w\n",
    "    z_valid = np.clip(z_valid, -1000, 1000)\n",
    "    y_valid_hat = sigmoid(z_valid)\n",
    "    y_valid_hat = np.clip(y_valid_hat, trunc_1, trunc_2)\n",
    "    \n",
    "    valid_loss = cross_entropy_loss(y_valid_17, y_valid_hat)\n",
    "    valid_losses.append(valid_loss)\n",
    "    \n",
    "    if i == 1:\n",
    "        w_1 = w\n",
    "  \n",
    "        \n",
    "    if (i + 1) % (n_iter / k) == 0:\n",
    "        \n",
    "        w_k.append(w)\n",
    "        \n",
    "        print(\"train loss: {:01.5f}\".format(train_loss), end=' ')\n",
    "        print(\"valid loss: {:01.5f}\".format(valid_loss))\n",
    "    "
   ]
  },
  {
   "cell_type": "code",
   "execution_count": 94,
   "id": "c8dc673a",
   "metadata": {
    "ExecuteTime": {
     "end_time": "2023-04-22T16:30:25.906884Z",
     "start_time": "2023-04-22T16:30:25.902895Z"
    }
   },
   "outputs": [
    {
     "data": {
      "text/plain": [
       "[0.6931471805599452,\n",
       " 0.5281953067725408,\n",
       " 0.4221359917802843,\n",
       " 0.36244723543693796,\n",
       " 0.32310239351031034,\n",
       " 0.312470978627703,\n",
       " 0.29003324378293727,\n",
       " 0.2916296713918252,\n",
       " 0.2863443721489208,\n",
       " 0.27680533132776225,\n",
       " 0.26279165819610345,\n",
       " 0.2515207361478823,\n",
       " 0.2461262588888203,\n",
       " 0.23743898317008102,\n",
       " 0.23415341889397642,\n",
       " 0.23018306457090468,\n",
       " 0.2264138704705992,\n",
       " 0.21880101031350072,\n",
       " 0.21068759572613643,\n",
       " 0.2053478141373387,\n",
       " 0.20223613681182487,\n",
       " 0.20013288858484463,\n",
       " 0.20011537008801134,\n",
       " 0.19793137880783504,\n",
       " 0.1967896713832826,\n",
       " 0.19573729380049784,\n",
       " 0.19379161326834982,\n",
       " 0.1887461703285787,\n",
       " 0.18671648465801077,\n",
       " 0.1824663800263274,\n",
       " 0.18107770071984577,\n",
       " 0.17952642514183736,\n",
       " 0.1755397064266512,\n",
       " 0.1715258869651676,\n",
       " 0.16357626301650247,\n",
       " 0.15758857011496122,\n",
       " 0.15563462845208553,\n",
       " 0.152214886491995,\n",
       " 0.14577937337876148,\n",
       " 0.1441532837139456,\n",
       " 0.14479974082542044,\n",
       " 0.1444992091720205,\n",
       " 0.1445485802346639,\n",
       " 0.14399114407623095,\n",
       " 0.14348745076702668,\n",
       " 0.14335664796987,\n",
       " 0.14270794451948787,\n",
       " 0.1421400930337795,\n",
       " 0.1414228016425434,\n",
       " 0.14063779935715873,\n",
       " 0.13941182911112365,\n",
       " 0.13896508690798326,\n",
       " 0.13867226161734436,\n",
       " 0.13799528204538583,\n",
       " 0.13577533054292792,\n",
       " 0.1330361425317813,\n",
       " 0.13186620475035343,\n",
       " 0.13110894279392132,\n",
       " 0.12971014079117052,\n",
       " 0.1274316118631263,\n",
       " 0.12342702052233374,\n",
       " 0.11829735737664819,\n",
       " 0.11609477596877693,\n",
       " 0.11325007370166873,\n",
       " 0.110290995934597,\n",
       " 0.10793344943168069,\n",
       " 0.10771056280875449,\n",
       " 0.1074009281104781,\n",
       " 0.10732841274619657,\n",
       " 0.10741378796354391,\n",
       " 0.10746503445205559,\n",
       " 0.1067321609550763,\n",
       " 0.10549116484139157,\n",
       " 0.10344577723305955,\n",
       " 0.1009161100621304,\n",
       " 0.09925214107899906,\n",
       " 0.0975266288298872,\n",
       " 0.09632630419162236,\n",
       " 0.09515529702982935,\n",
       " 0.0934097892721787,\n",
       " 0.09274042309830595,\n",
       " 0.09195548541578573,\n",
       " 0.091464284709345,\n",
       " 0.0909390480334848,\n",
       " 0.0911965975084917,\n",
       " 0.09039090163693275,\n",
       " 0.09001479426387822,\n",
       " 0.08914751368302652,\n",
       " 0.08895230930161906,\n",
       " 0.08879075043123637,\n",
       " 0.08886683610233853,\n",
       " 0.08897015725598549,\n",
       " 0.08927446412617554,\n",
       " 0.08951506462949148,\n",
       " 0.08936237099956816,\n",
       " 0.08899806141172284,\n",
       " 0.08844170821375687,\n",
       " 0.08714719006115897,\n",
       " 0.08460084816509172,\n",
       " 0.08259899545236794]"
      ]
     },
     "execution_count": 94,
     "metadata": {},
     "output_type": "execute_result"
    }
   ],
   "source": [
    "train_losses"
   ]
  },
  {
   "cell_type": "code",
   "execution_count": 60,
   "id": "4bec9509",
   "metadata": {
    "ExecuteTime": {
     "end_time": "2023-04-22T16:19:48.095141Z",
     "start_time": "2023-04-22T16:19:47.715780Z"
    }
   },
   "outputs": [
    {
     "data": {
      "image/png": "[encoded data removed]",
      "text/plain": [
       "<Figure size 2000x200 with 10 Axes>"
      ]
     },
     "metadata": {},
     "output_type": "display_data"
    }
   ],
   "source": [
    "# define matplotlib figure and axes to plot weights from k intervals\n",
    "fig, axes = plt.subplots(1, k, figsize=(2*k, 2))\n",
    "\n",
    "# plot figures\n",
    "for i, (ax, image) in enumerate(zip(axes, w_k)):  \n",
    "    ax.set_title(\"iteration: {}\".format((i+1)*(n_iter/k)))\n",
    "    ax.axis('off')\n",
    "    ax.imshow(image.reshape(28,28), cmap=None)"
   ]
  },
  {
   "cell_type": "code",
   "execution_count": 111,
   "id": "fa12ddc9",
   "metadata": {
    "ExecuteTime": {
     "end_time": "2023-04-22T16:34:43.043084Z",
     "start_time": "2023-04-22T16:34:42.794471Z"
    }
   },
   "outputs": [
    {
     "data": {
      "image/png": "[encoded data removed]",
      "text/plain": [
       "<Figure size 640x480 with 1 Axes>"
      ]
     },
     "metadata": {},
     "output_type": "display_data"
    }
   ],
   "source": [
    "z = X_test_17 @ w_1\n",
    "z = np.clip(z, -100, 100)\n",
    "y_hat = sigmoid(z)\n",
    "y_hat_0 = y_hat[np.where(y_test_17 == 0)]\n",
    "y_hat_1 = y_hat[np.where(y_test_17 == 1)]\n",
    "\n",
    "\n",
    "num_bins = 50\n",
    "plt.hist(y_hat_0, num_bins, facecolor='blue', alpha=0.5, label='1')\n",
    "plt.hist(y_hat_1, num_bins, facecolor='red', alpha=0.5, label='7')\n",
    "plt.legend(loc='upper right')\n",
    "plt.title('Distribution of logit output for classes 1 and 7', fontsize=12)\n",
    "plt.xlabel('logit value', fontsize=10)\n",
    "plt.ylabel('frequency', fontsize=10)\n",
    "plt.show()"
   ]
  },
  {
   "cell_type": "code",
   "execution_count": 112,
   "id": "43af1da8",
   "metadata": {
    "ExecuteTime": {
     "end_time": "2023-04-22T16:34:46.094761Z",
     "start_time": "2023-04-22T16:34:46.090883Z"
    }
   },
   "outputs": [
    {
     "data": {
      "text/plain": [
       "array([0.9999795 , 0.99232179, 0.73193443, 0.99954052])"
      ]
     },
     "execution_count": 112,
     "metadata": {},
     "output_type": "execute_result"
    }
   ],
   "source": [
    "y_hat[(y_hat > 0.0001) & (y_hat < 0.99999)]"
   ]
  },
  {
   "cell_type": "code",
   "execution_count": null,
   "id": "82b88e83",
   "metadata": {},
   "outputs": [],
   "source": []
  }
 ],
 "metadata": {
  "kernelspec": {
   "display_name": "Python 3 (ipykernel)",
   "language": "python",
   "name": "python3"
  },
  "language_info": {
   "codemirror_mode": {
    "name": "ipython",
    "version": 3
   },
   "file_extension": ".py",
   "mimetype": "text/x-python",
   "name": "python",
   "nbconvert_exporter": "python",
   "pygments_lexer": "ipython3",
   "version": "3.10.6"
  }
 },
 "nbformat": 4,
 "nbformat_minor": 5
}
